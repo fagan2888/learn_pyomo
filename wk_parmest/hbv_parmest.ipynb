{
 "cells": [
  {
   "cell_type": "code",
   "execution_count": 2,
   "metadata": {},
   "outputs": [],
   "source": [
    "#\n",
    "#  Creating a pyomo parest version of example from James Rawlings Reactor Design Book\n",
    "#  https://github.com/rawlings-group/paresto/blob/master/examples/green_book/hbv_det.m\n",
    "#"
   ]
  },
  {
   "cell_type": "code",
   "execution_count": 1,
   "metadata": {},
   "outputs": [],
   "source": [
    "# Import libraries\n",
    "from pyomo.environ import *\n",
    "from pyomo.dae import *\n",
    "import pyomo.contrib.parmest.parmest as parmest\n",
    "import pandas as pd\n",
    "import numpy as np\n",
    "import matplotlib.pyplot as plt"
   ]
  },
  {
   "cell_type": "code",
   "execution_count": 3,
   "metadata": {},
   "outputs": [
    {
     "data": {
      "text/html": [
       "<div>\n",
       "<style scoped>\n",
       "    .dataframe tbody tr th:only-of-type {\n",
       "        vertical-align: middle;\n",
       "    }\n",
       "\n",
       "    .dataframe tbody tr th {\n",
       "        vertical-align: top;\n",
       "    }\n",
       "\n",
       "    .dataframe thead th {\n",
       "        text-align: right;\n",
       "    }\n",
       "</style>\n",
       "<table border=\"1\" class=\"dataframe\">\n",
       "  <thead>\n",
       "    <tr style=\"text-align: right;\">\n",
       "      <th></th>\n",
       "      <th>t</th>\n",
       "      <th>ca_exp</th>\n",
       "      <th>cb_exp</th>\n",
       "      <th>cc_exp</th>\n",
       "    </tr>\n",
       "  </thead>\n",
       "  <tbody>\n",
       "    <tr>\n",
       "      <td>0</td>\n",
       "      <td>0.0</td>\n",
       "      <td>0.734562</td>\n",
       "      <td>0.000000</td>\n",
       "      <td>0.000000</td>\n",
       "    </tr>\n",
       "    <tr>\n",
       "      <td>1</td>\n",
       "      <td>2.0</td>\n",
       "      <td>0.707371</td>\n",
       "      <td>3.444986</td>\n",
       "      <td>373.654198</td>\n",
       "    </tr>\n",
       "    <tr>\n",
       "      <td>2</td>\n",
       "      <td>4.0</td>\n",
       "      <td>0.521003</td>\n",
       "      <td>6.148200</td>\n",
       "      <td>280.451066</td>\n",
       "    </tr>\n",
       "    <tr>\n",
       "      <td>3</td>\n",
       "      <td>6.0</td>\n",
       "      <td>0.680192</td>\n",
       "      <td>7.458215</td>\n",
       "      <td>301.503717</td>\n",
       "    </tr>\n",
       "    <tr>\n",
       "      <td>4</td>\n",
       "      <td>8.0</td>\n",
       "      <td>0.716159</td>\n",
       "      <td>8.115554</td>\n",
       "      <td>363.551492</td>\n",
       "    </tr>\n",
       "  </tbody>\n",
       "</table>\n",
       "</div>"
      ],
      "text/plain": [
       "     t    ca_exp    cb_exp      cc_exp\n",
       "0  0.0  0.734562  0.000000    0.000000\n",
       "1  2.0  0.707371  3.444986  373.654198\n",
       "2  4.0  0.521003  6.148200  280.451066\n",
       "3  6.0  0.680192  7.458215  301.503717\n",
       "4  8.0  0.716159  8.115554  363.551492"
      ]
     },
     "execution_count": 3,
     "metadata": {},
     "output_type": "execute_result"
    }
   ],
   "source": [
    "data_df = pd.read_csv('hbv_data.csv')\n",
    "data_df.head()"
   ]
  },
  {
   "cell_type": "code",
   "execution_count": 6,
   "metadata": {},
   "outputs": [],
   "source": [
    "data = [{'ca_exp': {k: v for (k, v) in zip(data_df.t, data_df.ca_exp)},\n",
    "         'cb_exp': {k: v for (k, v) in zip(data_df.t, data_df.cb_exp)},\n",
    "         'cc_exp': {k: v for (k, v) in zip(data_df.t, data_df.cc_exp)}\n",
    "        }]"
   ]
  },
  {
   "cell_type": "code",
   "execution_count": 13,
   "metadata": {},
   "outputs": [],
   "source": [
    "def hbv_model(data):\n",
    "    \n",
    "    ca_exp = data['ca_exp']\n",
    "    cb_exp = data['cb_exp']\n",
    "    cc_exp = data['cc_exp']\n",
    "    texp = list(ca_exp.keys())\n",
    "    \n",
    "    ca0 = 1.0\n",
    "    cb0 = 0.0\n",
    "    cc0 = 0.0\n",
    "    \n",
    "    m = ConcreteModel()\n",
    "    \n",
    "    m.k1 = Var(initialize = 6.3, bounds = (1e-3, 10))\n",
    "    m.k2 = Var(initialize = 0.07, bounds = (1e-3, 10))\n",
    "    m.k3 = Var(initialize = 1412, bounds = (100, 5000))\n",
    "    m.k4 = Var(initialize = 0.17, bounds = (1e-3, 10))\n",
    "    m.k5 = Var(initialize = 0.69, bounds = (1e-3, 10))\n",
    "    m.k6 = Var(initialize = 3.5e-6, bounds = (1e-6, 1e-5))\n",
    "    \n",
    "    m.time = ContinuousSet(bounds = (0, max(texp)), initialize = texp)\n",
    "    \n",
    "    m.ca = Var(m.time, initialize = ca0)\n",
    "    m.cb = Var(m.time, initialize = cb0)\n",
    "    m.cc = Var(m.time, initialize = cc0)\n",
    "    \n",
    "    m.dca = DerivativeVar(m.ca)\n",
    "    m.dcb = DerivativeVar(m.cb)\n",
    "    m.dcc = DerivativeVar(m.cc)\n",
    "    \n",
    "    def _dca_eq(m, t):\n",
    "        if t == 0:\n",
    "            return Constraint.Skip\n",
    "        else:\n",
    "            return m.dca[t] == m.k2 * m.cb[t] - m.k4 * m.ca[t]\n",
    "    m.dca_eq = Constraint(m.time, rule = _dca_eq)\n",
    "\n",
    "    def _dcb_eq(m, t):\n",
    "        if t == 0:\n",
    "            return Constraint.Skip\n",
    "        else:\n",
    "            return m.dcb[t] == m.k1 * m.ca[t] - m.k2 * m.cb[t] - m.k6 * m.cb[t] * m.cc[t]\n",
    "    m.dcb_eq = Constraint(m.time, rule = _dcb_eq)\n",
    "    \n",
    "    def _dcc_eq(m, t):\n",
    "        if t == 0:\n",
    "            return Constraint.Skip\n",
    "        else:\n",
    "            return m.dcc[t] == m.k3 * m.ca[t] - m.k5 * m.cc[t] - m.k6 * m.cb[t] * m.cc[t]\n",
    "    m.dcc_eq = Constraint(m.time, rule = _dcc_eq)\n",
    "\n",
    "    def _initcon(m):\n",
    "        yield m.ca[m.time.first()] == ca0\n",
    "        yield m.cb[m.time.first()] == cb0\n",
    "        yield m.cc[m.time.first()] == cc0\n",
    "    m.initcon = ConstraintList(rule = _initcon)\n",
    "        \n",
    "    def ComputeFirstStageCost_rule(m):\n",
    "        return 0\n",
    "    m.FirstStageCost = Expression(rule=ComputeFirstStageCost_rule)\n",
    "\n",
    "    def ComputeSecondStageCost_rule(m):\n",
    "        return sum((m.ca[t] - ca_exp[t]) ** 2 + \n",
    "                   1e-2 * (m.cb[t] - cb_exp[t]) ** 2 + \n",
    "                   1e-4 * (m.cc[t] - cc_exp[t]) ** 2 \n",
    "                   for t in texp) \n",
    "    m.SecondStageCost = Expression(rule=ComputeSecondStageCost_rule)\n",
    "   \n",
    "    def total_cost_rule(model):\n",
    "        return model.FirstStageCost + model.SecondStageCost\n",
    "    m.Total_Cost_Objective = Objective(rule=total_cost_rule, sense=minimize)\n",
    "    \n",
    "    disc = TransformationFactory('dae.collocation')\n",
    "    disc.apply_to(m, nfe=60, ncp=4)\n",
    "    \n",
    "    #disc = TransformationFactory('dae.finite_difference')\n",
    "    #disc.apply_to(m, nfe=500, scheme = 'BACKWARD')\n",
    "    \n",
    "    return m "
   ]
  },
  {
   "cell_type": "code",
   "execution_count": 14,
   "metadata": {},
   "outputs": [],
   "source": [
    "# parameters to be estimated\n",
    "theta_names = ['k1', 'k2', 'k3', 'k4', 'k5', 'k6']"
   ]
  },
  {
   "cell_type": "code",
   "execution_count": 15,
   "metadata": {},
   "outputs": [
    {
     "name": "stdout",
     "output_type": "stream",
     "text": [
      "Ipopt 3.11.1: max_iter=6000\n",
      "\n",
      "\n",
      "******************************************************************************\n",
      "This program contains Ipopt, a library for large-scale nonlinear optimization.\n",
      " Ipopt is released as open source code under the Eclipse Public License (EPL).\n",
      "         For more information visit http://projects.coin-or.org/Ipopt\n",
      "******************************************************************************\n",
      "\n",
      "NOTE: You are using Ipopt by default with the MUMPS linear solver.\n",
      "      Other linear solvers might be more efficient (see Ipopt documentation).\n",
      "\n",
      "\n",
      "This is Ipopt version 3.11.1, running with linear solver mumps.\n",
      "\n",
      "Number of nonzeros in equality constraint Jacobian...:     8895\n",
      "Number of nonzeros in inequality constraint Jacobian.:        0\n",
      "Number of nonzeros in Lagrangian Hessian.............:     2073\n",
      "\n",
      "Total number of variables............................:     1455\n",
      "                     variables with only lower bounds:        0\n",
      "                variables with lower and upper bounds:        6\n",
      "                     variables with only upper bounds:        0\n",
      "Total number of equality constraints.................:     1449\n",
      "Total number of inequality constraints...............:        0\n",
      "        inequality constraints with only lower bounds:        0\n",
      "   inequality constraints with lower and upper bounds:        0\n",
      "        inequality constraints with only upper bounds:        0\n",
      "\n",
      "iter    objective    inf_pr   inf_du lg(mu)  ||d||  lg(rg) alpha_du alpha_pr  ls\n",
      "   0  1.4721008e+06 1.41e+03 1.00e+02  -1.0 0.00e+00    -  0.00e+00 0.00e+00   0\n",
      "   1  1.4718321e+06 1.41e+03 1.00e+02  -1.0 2.48e+04    -  7.35e-02 1.45e-04f  1\n",
      "   2  1.4106195e+06 1.52e+03 2.01e+04  -1.0 2.48e+04    -  9.17e-02 3.37e-02f  1\n",
      "   3  1.4103570e+06 1.49e+03 2.92e+04  -1.0 1.16e+03  -2.0 8.36e-03 2.49e-02f  1\n",
      "   4  1.3975160e+06 8.60e+02 4.87e+05  -1.0 1.11e+03  -2.5 7.59e-01 4.55e-01f  1\n",
      "   5  1.3960812e+06 7.75e+02 9.89e+05  -1.0 6.52e+02  -2.1 1.34e-02 1.01e-01f  1\n",
      "   6  1.3958111e+06 7.25e+02 6.31e+05  -1.0 5.82e+02  -1.6 6.05e-01 6.51e-02f  1\n",
      "   7  1.3914757e+06 5.55e+02 2.05e+06  -1.0 5.29e+02  -2.1 1.27e-03 2.45e-01f  1\n",
      "   8  1.3911371e+06 5.31e+02 6.17e+06  -1.0 4.48e+02  -1.7 9.05e-01 4.28e-02f  1\n",
      "   9  1.3910355e+06 5.28e+02 6.94e+06  -1.0 3.84e+02  -2.2 1.00e+00 5.44e-03f  1\n",
      "iter    objective    inf_pr   inf_du lg(mu)  ||d||  lg(rg) alpha_du alpha_pr  ls\n",
      "  10  1.3812121e+06 4.09e+02 1.40e+07  -1.0 6.80e+02  -2.6 6.07e-01 1.86e-01f  1\n",
      "  11  1.3809864e+06 4.05e+02 2.42e+06  -1.0 2.58e+02  -2.2 1.00e+00 1.03e-02f  1\n",
      "  12  1.3687116e+06 3.51e+02 9.37e+06  -1.0 1.48e+03  -2.7 1.37e-01 1.72e-01f  1\n",
      "  13  1.3468341e+06 5.99e+02 2.74e+07  -1.0 5.86e+03  -3.2 3.05e-02 7.72e-02f  1\n",
      "  14  1.2626620e+06 2.90e+03 9.24e+08  -1.0 1.28e+03  -2.7 2.98e-03 1.00e+00f  1\n",
      "  15  1.2594013e+06 2.84e+03 9.03e+08  -1.0 4.85e+03  -3.2 1.79e-02 2.12e-02f  1\n",
      "  16  1.2486656e+06 2.15e+03 8.17e+08  -1.0 4.36e+02  -1.9 1.34e-04 2.72e-01f  1\n",
      "  17  1.2413312e+06 6.70e+02 2.27e+08  -1.0 5.61e+02  -1.5 1.80e-01 1.00e+00f  1\n",
      "  18  1.2337820e+06 4.80e+02 3.98e+07  -1.0 2.70e+02  -1.0 1.67e-03 1.00e+00f  1\n",
      "  19  1.2334952e+06 3.90e+02 3.22e+07  -1.0 8.42e+01  -0.6 9.62e-01 1.92e-01f  1\n",
      "iter    objective    inf_pr   inf_du lg(mu)  ||d||  lg(rg) alpha_du alpha_pr  ls\n",
      "  20  1.2334880e+06 3.89e+02 3.55e+07  -1.0 1.11e+02  -1.1 1.00e+00 1.55e-03f  1\n",
      "  21  1.2291932e+06 7.82e+01 3.59e+07  -1.0 1.27e+02  -1.6 2.43e-01 8.07e-01f  1\n",
      "  22  1.2291531e+06 7.81e+01 1.62e+07  -1.0 4.70e+02  -2.0 5.09e-01 1.57e-03f  1\n",
      "  23  1.2288262e+06 7.28e+01 5.60e+08  -1.0 8.17e+01  -1.6 1.00e+00 6.75e-02f  1\n",
      "  24  1.2147538e+06 1.33e+02 1.00e+08  -1.0 2.52e+02  -2.1 1.00e+00 1.00e+00f  1\n",
      "  25  1.1931101e+06 2.59e+02 4.08e+07  -1.0 7.13e+02  -2.6 1.00e+00 5.73e-01f  1\n",
      "  26  1.1107651e+06 2.22e+03 8.63e+08  -1.0 1.35e+03  -3.0 1.45e-03 8.44e-01f  1\n",
      "MUMPS returned INFO(1) = -9 and requires more memory, reallocating.  Attempt 1\n",
      "  Increasing icntl[13] from 1000 to 2000.\n",
      "  27  1.0364124e+06 4.98e+03 9.16e+09  -1.0 3.37e+03  -3.5 4.79e-02 1.00e+00f  1\n",
      "  28  1.0366987e+06 4.68e+03 8.45e+09  -1.0 3.09e+02  -1.3 6.50e-04 5.91e-02h  1\n",
      "  29  1.0421241e+06 2.76e+02 1.20e+09  -1.0 2.94e+02  -0.9 4.41e-02 7.61e-01h  1\n",
      "iter    objective    inf_pr   inf_du lg(mu)  ||d||  lg(rg) alpha_du alpha_pr  ls\n",
      "  30  1.0454425e+06 4.83e+02 1.80e+11  -1.0 1.73e+03  -1.3 6.35e-04 3.82e-01h  1\n",
      "  31  1.0454418e+06 4.60e+02 1.72e+11  -1.0 1.09e+02  -0.0 3.90e-02 4.79e-02h  1\n",
      "  32  1.0454376e+06 4.60e+02 1.72e+11  -1.0 5.12e+02  -0.5 6.68e-01 1.24e-04f  1\n",
      "  33  1.0454428e+06 4.59e+02 1.72e+11  -1.0 1.25e+02  -0.1 6.70e-02 1.05e-03h  1\n",
      "  34  1.0506705e+06 3.20e+02 1.23e+11  -1.0 2.63e+02  -0.5 5.93e-01 2.99e-01h  1\n",
      "  35  1.0507088e+06 3.19e+02 1.23e+11  -1.0 1.04e+02  -0.1 3.24e-01 4.41e-03h  1\n",
      "  36  1.0507078e+06 3.19e+02 1.23e+11  -1.0 3.85e+02  -0.6 1.00e+00 2.06e-04f  1\n",
      "  37  1.0505942e+06 2.58e+02 1.04e+11  -1.0 3.74e+02  -0.2 1.95e-01 1.90e-01f  1\n",
      "  38  1.0485373e+06 1.42e+02 6.31e+10  -1.0 2.40e+02  -0.6 5.38e-01 4.34e-01f  1\n",
      "  39  1.0486610e+06 1.42e+02 6.27e+10  -1.0 1.94e+02  -1.1 1.23e-02 6.26e-03h  1\n",
      "iter    objective    inf_pr   inf_du lg(mu)  ||d||  lg(rg) alpha_du alpha_pr  ls\n",
      "  40  1.0486614e+06 1.42e+02 6.27e+10  -1.0 1.07e+02  -0.7 1.09e-04 7.31e-05h  1\n",
      "  41  1.0486604e+06 1.42e+02 6.27e+10  -1.0 6.65e+02  -1.2 1.29e-06 2.07e-05f  1\n",
      "  42  1.0344159e+06 1.89e+01 6.38e+10  -1.0 7.59e+02  -0.7 1.00e+00 1.00e+00f  1\n",
      "  43  1.0362651e+06 1.43e+01 1.48e+10  -1.0 1.17e+02   0.6 2.16e-01 2.90e-01h  1\n",
      "  44  1.0347738e+06 4.57e-01 1.71e+10  -1.0 4.21e+01   0.1 5.51e-02 1.00e+00f  1\n",
      "  45  1.0345104e+06 4.84e-03 1.92e+08  -1.0 5.42e+00  -0.4 1.00e+00 1.00e+00f  1\n",
      "  46  1.0334495e+06 3.75e-02 7.90e+06  -1.0 9.81e+00  -0.8 9.47e-01 1.00e+00f  1\n",
      "  47  1.0303841e+06 3.32e-01 2.86e+05  -1.0 2.95e+01  -1.3 9.65e-01 1.00e+00f  1\n",
      "  48  1.0210821e+06 1.32e+01 1.28e+07  -1.0 1.01e+02  -1.8 3.86e-01 1.00e+00f  1\n",
      "  49  1.0130399e+06 1.77e+01 4.20e+07  -1.0 1.34e+02  -1.4 1.00e+00 5.85e-01f  1\n",
      "iter    objective    inf_pr   inf_du lg(mu)  ||d||  lg(rg) alpha_du alpha_pr  ls\n",
      "  50  1.0187568e+06 1.65e+01 6.22e+07  -1.0 4.18e+01  -0.9 1.69e-02 3.34e-01h  2\n",
      "  51  1.0159827e+06 1.65e+01 9.57e+07  -1.0 1.78e+02  -0.5 1.43e-01 6.57e-02f  2\n",
      "  52  1.0165300e+06 1.65e+01 9.75e+07  -1.0 2.97e+02  -0.1 3.53e-02 3.68e-03h  5\n",
      "  53  1.0184936e+06 1.59e+01 9.22e+07  -1.0 9.11e+01   0.3 2.54e-02 8.85e-02h  3\n",
      "  54  1.0099569e+06 5.99e+00 5.51e+09  -1.0 6.81e+01  -0.1 4.19e-03 1.00e+00f  1\n",
      "  55  1.0099485e+06 5.91e+00 5.44e+09  -1.0 5.04e+01  -0.6 1.00e+00 1.37e-02f  1\n",
      "  56  1.0099538e+06 5.86e+00 5.39e+09  -1.0 3.70e+01  -1.1 1.00e+00 9.08e-03h  1\n",
      "  57  1.0112101e+06 5.21e-01 9.38e+08  -1.0 2.86e+01  -0.7 1.00e+00 1.00e+00h  1\n",
      "  58  1.0079811e+06 4.02e-01 1.78e+07  -1.0 1.82e+01  -1.1 1.00e+00 1.00e+00f  1\n",
      "  59  1.0001942e+06 9.95e+00 8.42e+06  -1.0 2.16e+02   0.2 6.28e-02 4.23e-02f  1\n",
      "iter    objective    inf_pr   inf_du lg(mu)  ||d||  lg(rg) alpha_du alpha_pr  ls\n",
      "  60  1.0017437e+06 1.17e+00 3.13e+06  -1.0 9.45e+00  -0.3 5.37e-02 1.00e+00h  1\n",
      "  61  9.9529774e+05 2.54e+01 5.96e+07  -1.0 1.96e+01  -0.8 2.45e-02 1.00e+00f  1\n",
      "  62  9.9159132e+05 3.37e+01 4.19e+07  -1.0 5.39e+01  -1.3 1.00e+00 2.58e-01f  1\n",
      "  63  9.9154089e+05 3.37e+01 4.17e+07  -1.0 1.14e+02  -1.7 5.88e-01 1.80e-03f  1\n",
      "  64  9.9075401e+05 3.25e+01 4.03e+07  -1.0 2.79e+02  -2.2 1.00e+00 2.85e-02f  1\n",
      "  65  9.8258545e+05 1.07e+01 2.55e+07  -1.0 9.43e+01  -1.8 1.00e+00 7.49e-01f  1\n",
      "  66  9.8250453e+05 1.07e+01 1.86e+08  -1.0 2.96e+02  -2.3 9.05e-01 2.76e-03f  1\n",
      "  67  9.7241894e+05 1.81e+01 1.27e+07  -1.0 5.25e+02  -2.7 1.24e-01 2.34e-01f  1\n",
      "  68  9.4449353e+05 2.75e+02 1.66e+08  -1.0 1.68e+03  -3.2 7.23e-01 2.23e-01f  1\n",
      "  69  9.4059710e+05 2.53e+02 6.95e+08  -1.0 6.39e+02  -2.8 6.97e-01 8.24e-02f  1\n",
      "iter    objective    inf_pr   inf_du lg(mu)  ||d||  lg(rg) alpha_du alpha_pr  ls\n",
      "  70  9.4026968e+05 2.53e+02 7.75e+08  -1.0 2.47e+04    -  7.25e-02 2.23e-04f  1\n",
      "  71  2.1878266e+05 1.07e+04 1.13e+10  -1.0 2.48e+04    -  8.42e-04 1.00e+00f  1\n",
      "  72  1.6664787e+05 8.75e+02 2.97e+09  -1.0 1.28e+03  -3.3 1.85e-01 1.00e+00f  1\n",
      "MUMPS returned INFO(1) = -9 and requires more memory, reallocating.  Attempt 1\n",
      "  Increasing icntl[13] from 2000 to 4000.\n",
      "  73  7.7971162e+04 2.42e+03 1.86e+09  -1.0 9.73e+03    -  1.02e-02 9.69e-01f  1\n"
     ]
    },
    {
     "name": "stdout",
     "output_type": "stream",
     "text": [
      "  74  7.6811213e+04 2.10e+03 1.61e+09  -1.0 2.05e+03  -3.7 6.20e-03 1.24e-01f  1\n",
      "  75  7.7225911e+04 2.06e+03 1.58e+09  -1.0 6.86e+03  -4.2 4.54e-02 1.73e-02h  1\n",
      "  76  7.7220688e+04 2.06e+03 1.58e+09  -1.0 2.11e+03  -3.8 2.22e-03 1.26e-03f  1\n",
      "  77  7.7225436e+04 2.06e+03 1.58e+09  -1.0 3.41e+04    -  8.61e-05 4.49e-05h  1\n",
      "  78  1.0993398e+05 8.21e+02 7.08e+09  -1.0 3.18e+04    -  2.09e-02 1.48e-01h  1\n",
      "  79  1.0234646e+05 4.04e+02 4.21e+09  -1.0 2.03e+03  -4.3 6.91e-01 4.68e-01f  1\n",
      "iter    objective    inf_pr   inf_du lg(mu)  ||d||  lg(rg) alpha_du alpha_pr  ls\n",
      "  80  1.1921876e+05 4.99e+02 4.45e+09  -1.0 4.26e+04    -  7.99e-02 6.95e-02h  1\n",
      "  81  1.1934041e+05 4.79e+02 3.83e+09  -1.0 7.24e+03  -3.8 5.26e-01 7.78e-02h  4\n",
      "  82  1.4976300e+05 1.99e+02 1.87e+09  -1.0 3.89e+03  -3.4 2.27e-01 1.00e+00H  1\n",
      "  83  1.4441020e+05 1.10e+02 3.44e+10  -1.0 7.31e+02  -2.1 1.00e+00 1.00e+00f  1\n",
      "  84  1.4265149e+05 6.73e+01 2.05e+10  -1.0 3.14e+02  -2.6 1.00e+00 4.21e-01f  1\n",
      "  85  1.3178806e+05 2.46e+02 1.09e+10  -1.0 9.21e+02  -3.0 1.00e+00 1.00e+00f  1\n",
      "  86  1.1868002e+05 2.88e+02 7.08e+09  -1.0 4.43e+02  -2.6 1.00e+00 7.86e-01f  1\n",
      "  87  1.1849989e+05 2.87e+02 7.05e+09  -1.0 7.34e+02  -3.1 5.69e-01 4.08e-03f  1\n",
      "  88  1.1842078e+05 2.86e+02 7.03e+09  -1.0 1.28e+03  -3.6 3.33e-01 2.92e-03f  1\n",
      "  89  1.0866670e+05 2.19e+02 3.10e+09  -1.0 5.47e+02  -3.1 1.00e+00 1.00e+00f  1\n",
      "iter    objective    inf_pr   inf_du lg(mu)  ||d||  lg(rg) alpha_du alpha_pr  ls\n",
      "  90  9.4054860e+04 3.69e+02 1.30e+09  -1.0 1.17e+03  -3.6 1.00e+00 1.00e+00f  1\n",
      "  91  7.3396258e+04 1.05e+04 2.01e+09  -1.0 5.79e+03    -  7.38e-02 6.62e-01f  1\n",
      "  92  7.3448448e+04 1.04e+04 2.01e+09  -1.0 3.52e+02  -0.5 1.00e+00 6.36e-03h  1\n",
      "  93  7.3289841e+04 1.03e+04 2.00e+09  -1.0 3.74e+02  -1.0 1.75e-01 6.87e-03f  1\n",
      "  94  7.0084279e+04 7.29e+03 4.54e+09  -1.0 4.81e+02  -1.4 3.45e-01 2.71e-01f  1\n",
      "  95  6.9886998e+04 7.22e+03 4.49e+09  -1.0 3.56e+02  -1.9 4.95e-01 9.99e-03f  1\n",
      "  96  6.9814389e+04 7.21e+03 3.73e+09  -1.0 8.57e+02  -2.4 3.64e-01 1.50e-03f  1\n",
      "  97  6.8565568e+04 6.97e+03 3.64e+09  -1.0 4.80e+03  -2.9 3.47e-02 3.73e-02f  1\n",
      "  98  6.4872541e+04 6.34e+02 3.01e+09  -1.0 4.01e+02  -2.4 8.16e-04 1.00e+00f  1\n",
      "  99  6.4277416e+04 3.37e+01 2.12e+08  -1.0 1.88e+02  -2.9 9.21e-01 1.00e+00f  1\n",
      "iter    objective    inf_pr   inf_du lg(mu)  ||d||  lg(rg) alpha_du alpha_pr  ls\n",
      " 100  6.1417852e+04 1.45e+02 1.09e+09  -1.0 8.52e+02    -  3.76e-02 1.00e+00f  1\n",
      " 101  5.1481971e+04 7.98e+01 6.48e+08  -1.0 4.25e+02    -  3.41e-04 1.00e+00f  1\n",
      " 102  2.2966283e+04 7.65e+02 7.78e+08  -1.0 3.40e+03  -3.4 1.20e-01 4.17e-01f  1\n",
      " 103  2.5257079e+04 4.65e+02 1.75e+09  -1.0 1.97e+02  -2.1 1.00e+00 4.26e-01h  1\n",
      " 104  1.9174753e+04 8.07e+02 1.38e+09  -1.0 8.26e+02  -2.5 4.41e-01 1.00e+00f  1\n",
      " 105  2.1157901e+04 9.07e+02 1.88e+09  -1.0 5.30e+02  -2.1 3.95e-01 1.91e-01h  2\n",
      " 106  3.1241263e+04 7.13e+02 8.32e+09  -1.0 5.67e+02  -1.7 1.00e+00 2.92e-01h  2\n",
      " 107  4.4390405e+04 5.22e+02 1.78e+10  -1.0 7.66e+02  -1.3 8.37e-01 3.54e-01h  1\n",
      " 108  8.0549710e+04 1.71e+02 4.77e+11  -1.0 9.93e+02  -0.8 1.00e+00 9.65e-01h  1\n",
      " 109  7.7298974e+04 1.45e+02 1.03e+11  -1.0 5.79e+02   0.5 3.44e-02 2.21e-01F  1\n",
      "iter    objective    inf_pr   inf_du lg(mu)  ||d||  lg(rg) alpha_du alpha_pr  ls\n",
      " 110  7.8818929e+04 1.62e+02 1.04e+12  -1.0 1.15e+03   0.0 1.79e-01 1.17e-01h  2\n",
      " 111  8.0024990e+04 9.10e+01 4.20e+12  -1.0 3.91e+02   0.4 1.00e+00 5.59e-01h  1\n",
      " 112  8.4229462e+04 9.78e+01 7.16e+12  -1.0 6.07e+02   1.8 1.23e-02 4.73e-02h  3\n",
      " 113  6.9980826e+04 2.11e+02 2.70e+13  -1.0 2.09e+02   3.1 1.57e-04 2.17e-01f  1\n",
      " 114  9.4258857e+04 1.55e+01 2.57e+14  -1.0 8.71e+01   3.5 1.82e-03 1.00e+00h  1\n",
      "MUMPS returned INFO(1) = -9 and requires more memory, reallocating.  Attempt 1\n",
      "  Increasing icntl[13] from 4000 to 8000.\n",
      " 115  9.2827540e+04 1.61e+01 2.56e+14  -1.0 4.94e+02   3.9 6.48e-01 1.54e-02f  1\n",
      " 116  7.8349039e+04 2.97e+02 7.15e+14  -1.0 7.16e+02   4.4 2.38e-04 5.52e-01f  1\n",
      " 117  1.0542509e+05 1.15e+02 1.49e+14  -1.0 6.45e+02   3.9 3.32e-02 4.77e-01h  1\n",
      " 118  9.8412962e+04 1.03e+02 9.54e+14  -1.0 9.94e+02   4.3 3.37e-03 5.58e-02f  1\n",
      " 119  9.8407548e+04 1.03e+02 9.54e+14  -1.0 2.33e+02   6.6 3.17e-02 1.12e-04f  1\n",
      "iter    objective    inf_pr   inf_du lg(mu)  ||d||  lg(rg) alpha_du alpha_pr  ls\n",
      " 120r 9.8407548e+04 1.03e+02 9.99e+02   0.9 0.00e+00   6.1 0.00e+00 4.17e-07R  2\n",
      " 121r 9.8399630e+04 5.62e+01 1.03e+06   0.9 7.33e+03    -  6.62e-03 4.63e-04f  1\n",
      " 122  9.7946880e+04 5.59e+01 3.40e+03  -1.0 1.77e+03    -  2.72e-01 3.15e-03f  1\n",
      " 123  9.7929527e+04 5.59e+01 4.23e+05  -1.0 3.65e+03    -  9.22e-03 1.83e-04f  1\n",
      " 124  9.0039841e+04 1.46e+02 9.79e+07  -1.0 4.14e+03    -  2.39e-01 9.82e-02f  4\n",
      " 125  8.9814505e+04 1.35e+02 1.06e+14  -1.0 9.39e+02   5.6 1.24e-01 1.14e-02F  1\n",
      " 126  8.9813523e+04 1.35e+02 1.07e+14  -1.0 8.83e+02   5.1 3.85e-01 4.79e-05F  1\n",
      " 127  1.0393152e+05 1.08e+02 1.36e+16  -1.0 1.05e+03   4.6 2.87e-05 3.69e-01h  2\n",
      " 128  1.0492497e+05 1.06e+02 1.35e+16  -1.0 7.65e+02   5.1 1.82e-01 2.71e-02H  1\n",
      " 129  1.0494568e+05 1.05e+02 1.36e+16  -1.0 3.61e+02   5.5 4.01e-01 3.66e-04h  1\n",
      "iter    objective    inf_pr   inf_du lg(mu)  ||d||  lg(rg) alpha_du alpha_pr  ls\n",
      " 130  1.0776646e+05 1.05e+02 1.93e+16  -1.0 5.48e+02   5.0 1.04e-03 5.60e-02h  3\n",
      " 131  1.0776931e+05 1.05e+02 3.07e+16  -1.0 1.06e+03   5.4 4.54e-01 4.00e-05h  1\n",
      " 132  1.0824537e+05 1.05e+02 2.10e+16  -1.0 1.07e+03   5.0 6.59e-02 1.07e-02h  6\n",
      " 133  1.0987369e+05 1.04e+02 2.56e+16  -1.0 1.26e+03   4.5 7.29e-04 4.10e-02h  5\n",
      " 134  9.5611396e+04 9.88e+01 1.72e+16  -1.0 1.80e+04   4.9 2.29e-07 7.48e-03f  1\n",
      " 135  9.5012458e+04 7.39e+01 1.78e+16  -1.0 5.75e+02   5.3 1.97e-01 1.25e-01f  2\n",
      " 136  9.4148913e+04 9.95e+01 2.49e+16  -1.0 1.59e+03   5.8 2.75e-01 3.43e-02f  2\n",
      " 137  9.3563576e+04 1.05e+02 3.56e+16  -1.0 9.35e+03   6.2 3.41e-03 2.49e-03f  3\n",
      " 138  8.8782338e+04 1.43e+02 5.01e+16  -1.0 1.46e+03   5.7 1.17e-01 1.29e-01F  1\n",
      " 139  8.9079915e+04 1.42e+02 4.72e+16  -1.0 9.12e+02   6.1 5.53e-04 9.48e-03h  4\n",
      "iter    objective    inf_pr   inf_du lg(mu)  ||d||  lg(rg) alpha_du alpha_pr  ls\n",
      " 140  8.9143152e+04 1.42e+02 4.72e+16  -1.0 1.64e+04   5.7 2.63e-03 3.97e-05h  8\n",
      " 141  8.9412409e+04 1.42e+02 4.35e+16  -1.0 9.42e+02   6.1 4.76e-02 8.08e-03h  4\n",
      " 142  8.9676203e+04 1.42e+02 4.34e+16  -1.0 4.84e+03   5.6 5.16e-03 5.09e-04h  6\n",
      " 143  8.9769636e+04 1.41e+02 4.17e+16  -1.0 1.17e+03   6.0 1.34e-01 5.51e-03h  5\n",
      " 144  8.9803823e+04 1.41e+02 4.17e+16  -1.0 1.88e+03   5.6 1.55e-02 1.60e-04h  9\n",
      "MUMPS returned INFO(1) = -9 and requires more memory, reallocating.  Attempt 1\n",
      "  Increasing icntl[13] from 8000 to 16000.\n",
      " 145  8.9813125e+04 1.41e+02 4.16e+16  -1.0 1.27e+03   6.0 8.11e-01 9.53e-04h  8\n",
      " 146  9.4119834e+04 1.44e+02 2.23e+16  -1.0 3.25e+03   5.5 1.02e-02 1.02e-02s 17\n",
      " 147r 9.4119834e+04 1.44e+02 9.99e+02   1.0 0.00e+00   5.9 0.00e+00 0.00e+00R  1\n",
      " 148r 9.4092869e+04 3.81e+01 1.52e+05   1.0 1.02e+04    -  8.29e-03 9.93e-04f  1\n",
      " 149  8.9084270e+04 1.62e+02 4.27e+06  -1.0 3.08e+03    -  1.51e-01 5.09e-02f  3\n",
      "iter    objective    inf_pr   inf_du lg(mu)  ||d||  lg(rg) alpha_du alpha_pr  ls\n",
      " 150  8.5833983e+04 2.34e+02 5.85e+06  -1.0 4.03e+03    -  1.30e-01 2.12e-02f  3\n",
      " 151  7.4360062e+04 8.23e+02 1.54e+07  -1.0 2.38e+03    -  1.23e-01 6.68e-02f  1\n",
      " 152  6.5968879e+04 6.31e+02 5.11e+07  -1.0 3.94e+03    -  1.15e-01 1.01e-01f  1\n",
      " 153  4.6770045e+04 1.53e+03 7.77e+07  -1.0 1.95e+03    -  5.98e-04 3.44e-01f  1\n",
      " 154  4.6057689e+04 1.52e+03 7.65e+07  -1.0 2.56e+03    -  2.00e-01 8.24e-03f  1\n",
      " 155  4.5895358e+04 1.52e+03 2.31e+07  -1.0 2.05e+03    -  1.22e-01 2.01e-03f  1\n",
      " 156  1.6699270e+04 5.40e+03 5.85e+08  -1.0 2.00e+03    -  1.42e-01 5.60e-01f  1\n",
      " 157  1.6160983e+04 4.91e+03 3.77e+08  -1.0 2.88e+03    -  3.72e-02 9.14e-02f  1\n",
      " 158  1.6164338e+04 4.91e+03 4.44e+09  -1.0 1.62e+02   5.5 5.05e-01 4.15e-04h  1\n",
      " 159r 1.6164338e+04 4.91e+03 1.00e+03   2.5 0.00e+00   5.0 0.00e+00 2.52e-07R  6\n",
      "iter    objective    inf_pr   inf_du lg(mu)  ||d||  lg(rg) alpha_du alpha_pr  ls\n",
      " 160r 1.5735687e+04 6.21e+02 8.60e+08   2.5 2.86e+05    -  6.55e-03 1.19e-03f  1\n",
      " 161  1.4156039e+04 3.91e+02 4.60e+06  -1.0 1.34e+03    -  1.97e-01 3.68e-01f  1\n",
      " 162  1.3802116e+04 2.47e+02 3.29e+07  -1.0 6.28e+02    -  1.10e-03 1.00e+00f  1\n",
      " 163  1.3198289e+04 1.76e+01 3.37e+07  -1.0 2.34e+02    -  9.71e-01 1.00e+00f  1\n",
      " 164  1.3181867e+04 1.14e+01 1.33e+07  -1.0 1.34e+02    -  9.96e-01 1.00e+00f  1\n",
      " 165  1.3158878e+04 1.93e+00 1.06e+06  -1.0 4.86e+01    -  1.00e+00 1.00e+00f  1\n"
     ]
    },
    {
     "name": "stdout",
     "output_type": "stream",
     "text": [
      " 166  1.3157558e+04 9.85e-03 3.05e+03  -1.0 2.00e+00    -  1.00e+00 1.00e+00h  1\n",
      " 167  1.3157560e+04 1.65e-07 6.33e-02  -1.0 1.05e-02    -  1.00e+00 1.00e+00h  1\n",
      " 168  1.3157559e+04 3.27e-05 2.05e+01  -2.5 1.59e-01    -  1.00e+00 1.00e+00h  1\n",
      " 169  1.3157559e+04 4.14e-11 5.12e-07  -2.5 2.96e-05    -  1.00e+00 1.00e+00h  1\n",
      "iter    objective    inf_pr   inf_du lg(mu)  ||d||  lg(rg) alpha_du alpha_pr  ls\n",
      " 170  1.3157559e+04 2.48e-08 1.56e-02  -3.8 4.38e-03    -  1.00e+00 1.00e+00h  1\n",
      " 171  1.3157559e+04 3.78e-11 6.74e-07  -3.8 2.25e-08    -  1.00e+00 1.00e+00h  1\n",
      " 172  1.3157559e+04 7.75e-11 4.92e-05  -5.7 2.43e-04    -  1.00e+00 1.00e+00h  1\n",
      " 173  1.3157559e+04 3.57e-11 7.79e-07  -5.7 7.13e-11    -  1.00e+00 1.00e+00h  1\n",
      " 174  1.3157559e+04 2.81e-11 6.35e-07  -8.6 3.01e-06    -  1.00e+00 1.00e+00h  1\n",
      " 175  1.3157559e+04 2.87e-11 2.31e-06  -8.6 2.09e-11    -  1.00e+00 1.00e+00h  1\n",
      " 176  1.3157559e+04 2.55e-11 4.07e-07  -8.6 2.43e-11    -  1.00e+00 5.00e-01h  2\n",
      " 177  1.3157559e+04 2.55e-11 1.58e-07  -8.6 1.00e-11    -  1.00e+00 1.25e-01h  4\n",
      " 178  1.3157559e+04 3.23e-11 4.02e-07  -8.6 1.30e-11    -  1.00e+00 1.00e+00h  1\n",
      " 179  1.3157559e+04 3.20e-11 9.59e-08  -8.6 1.50e-11    -  1.00e+00 1.25e-01h  4\n",
      "\n",
      "Number of Iterations....: 179\n",
      "\n",
      "                                   (scaled)                 (unscaled)\n",
      "Objective...............:   1.2403743843392813e+04    1.3157559463205822e+04\n",
      "Dual infeasibility......:   9.5865918870547892e-08    1.0169200073460054e-07\n",
      "Constraint violation....:   3.2004621175474313e-11    3.2004621175474313e-11\n",
      "Complementarity.........:   2.5059035596800804e-09    2.6581954216277203e-09\n",
      "Overall NLP error.......:   9.5865918870547892e-08    1.0169200073460054e-07\n",
      "\n",
      "\n",
      "Number of objective function evaluations             = 360\n",
      "Number of objective gradient evaluations             = 181\n",
      "Number of equality constraint evaluations            = 360\n",
      "Number of inequality constraint evaluations          = 0\n",
      "Number of equality constraint Jacobian evaluations   = 184\n",
      "Number of inequality constraint Jacobian evaluations = 0\n",
      "Number of Lagrangian Hessian evaluations             = 180\n",
      "Total CPU secs in IPOPT (w/o function evaluations)   =    113.718\n",
      "Total CPU secs in NLP function evaluations           =      0.150\n",
      "\n",
      "EXIT: Solved To Acceptable Level.\n"
     ]
    }
   ],
   "source": [
    "pest = parmest.Estimator(hbv_model, data, theta_names, tee = True)\n",
    "obj, theta = pest.theta_est()"
   ]
  },
  {
   "cell_type": "code",
   "execution_count": 16,
   "metadata": {},
   "outputs": [
    {
     "data": {
      "text/plain": [
       "{'k1': 2.0499437714309448,\n",
       " 'k2': 0.01940662424564609,\n",
       " 'k3': 192.93788256852437,\n",
       " 'k4': 0.19027088517691834,\n",
       " 'k5': 0.3690144565767463,\n",
       " 'k6': 8.234443443279099e-06}"
      ]
     },
     "execution_count": 16,
     "metadata": {},
     "output_type": "execute_result"
    }
   ],
   "source": [
    "theta"
   ]
  },
  {
   "cell_type": "code",
   "execution_count": 18,
   "metadata": {},
   "outputs": [
    {
     "name": "stdout",
     "output_type": "stream",
     "text": [
      "Ipopt 3.11.1: \n",
      "\n",
      "******************************************************************************\n",
      "This program contains Ipopt, a library for large-scale nonlinear optimization.\n",
      " Ipopt is released as open source code under the Eclipse Public License (EPL).\n",
      "         For more information visit http://projects.coin-or.org/Ipopt\n",
      "******************************************************************************\n",
      "\n",
      "NOTE: You are using Ipopt by default with the MUMPS linear solver.\n",
      "      Other linear solvers might be more efficient (see Ipopt documentation).\n",
      "\n",
      "\n",
      "This is Ipopt version 3.11.1, running with linear solver mumps.\n",
      "\n",
      "Number of nonzeros in equality constraint Jacobian...:     6963\n",
      "Number of nonzeros in inequality constraint Jacobian.:        0\n",
      "Number of nonzeros in Lagrangian Hessian.............:      393\n",
      "\n",
      "Total number of variables............................:     1443\n",
      "                     variables with only lower bounds:        0\n",
      "                variables with lower and upper bounds:        0\n",
      "                     variables with only upper bounds:        0\n",
      "Total number of equality constraints.................:     1443\n",
      "Total number of inequality constraints...............:        0\n",
      "        inequality constraints with only lower bounds:        0\n",
      "   inequality constraints with lower and upper bounds:        0\n",
      "        inequality constraints with only upper bounds:        0\n",
      "\n",
      "iter    objective    inf_pr   inf_du lg(mu)  ||d||  lg(rg) alpha_du alpha_pr  ls\n",
      "   0  1.4721008e+06 1.93e+02 1.00e+02  -1.0 0.00e+00    -  0.00e+00 0.00e+00   0\n",
      "   1  1.3835766e+06 1.59e+03 3.59e+02  -1.0 9.02e+06    -  1.00e+00 7.81e-03f  8\n",
      "   2  1.1050732e+06 1.54e+03 2.48e+03  -1.0 6.72e+05    -  1.00e+00 3.12e-02f  6\n",
      "   3  9.9555484e+05 1.18e+03 2.94e+04  -1.0 1.40e+05    -  1.00e+00 2.50e-01f  3\n",
      "   4  1.1132029e+05 3.02e+02 1.23e+05  -1.0 2.79e+04    -  1.00e+00 1.00e+00f  1\n",
      "   5  1.4866561e+04 2.97e+01 5.53e+03  -1.0 7.92e+03    -  1.00e+00 1.00e+00f  1\n",
      "   6  1.3184453e+04 3.48e-01 1.98e+01  -1.0 1.45e+03    -  1.00e+00 1.00e+00f  1\n",
      "   7  1.3157657e+04 5.57e-04 2.60e-03  -1.7 5.85e+01    -  1.00e+00 1.00e+00f  1\n",
      "   8  1.3157559e+04 1.76e-09 5.24e-09  -3.8 1.04e-01    -  1.00e+00 1.00e+00h  1\n",
      "\n",
      "Number of Iterations....: 8\n",
      "\n",
      "                                   (scaled)                 (unscaled)\n",
      "Objective...............:   1.2403743843571416e+04    1.3157559463395279e+04\n",
      "Dual infeasibility......:   9.8378527546572059e-12    1.0435730876417301e-11\n",
      "Constraint violation....:   1.7585727249413985e-09    1.7585727249413985e-09\n",
      "Complementarity.........:   0.0000000000000000e+00    0.0000000000000000e+00\n",
      "Overall NLP error.......:   1.7585727249413985e-09    1.7585727249413985e-09\n",
      "\n",
      "\n",
      "Number of objective function evaluations             = 23\n",
      "Number of objective gradient evaluations             = 9\n",
      "Number of equality constraint evaluations            = 26\n",
      "Number of inequality constraint evaluations          = 0\n",
      "Number of equality constraint Jacobian evaluations   = 9\n",
      "Number of inequality constraint Jacobian evaluations = 0\n",
      "Number of Lagrangian Hessian evaluations             = 8\n",
      "Total CPU secs in IPOPT (w/o function evaluations)   =      0.057\n",
      "Total CPU secs in NLP function evaluations           =      0.002\n",
      "\n",
      "EXIT: Optimal Solution Found.\n"
     ]
    },
    {
     "data": {
      "text/plain": [
       "{'Problem': [{'Lower bound': -inf, 'Upper bound': inf, 'Number of objectives': 1, 'Number of constraints': 1443, 'Number of variables': 1443, 'Sense': 'unknown'}], 'Solver': [{'Status': 'ok', 'Message': 'Ipopt 3.11.1\\\\x3a Optimal Solution Found', 'Termination condition': 'optimal', 'Id': 0, 'Error rc': 0, 'Time': 0.10561513900756836}], 'Solution': [OrderedDict([('number of solutions', 0), ('number of solutions displayed', 0)])]}"
      ]
     },
     "execution_count": 18,
     "metadata": {},
     "output_type": "execute_result"
    }
   ],
   "source": [
    "ms = hbv_model(data[0])\n",
    "ms.k1.fix(theta['k1'])\n",
    "ms.k2.fix(theta['k2'])\n",
    "ms.k3.fix(theta['k3'])\n",
    "ms.k4.fix(theta['k4'])\n",
    "ms.k5.fix(theta['k5'])\n",
    "ms.k6.fix(theta['k6'])\n",
    "\n",
    "solver = SolverFactory('ipopt')\n",
    "solver.solve(ms, tee = True)"
   ]
  },
  {
   "cell_type": "code",
   "execution_count": 20,
   "metadata": {},
   "outputs": [
    {
     "data": {
      "text/plain": [
       "<matplotlib.collections.PathCollection at 0x1a242e9780>"
      ]
     },
     "execution_count": 20,
     "metadata": {},
     "output_type": "execute_result"
    },
    {
     "data": {
      "image/png": "[encoded data removed]",
      "text/plain": [
       "<Figure size 432x288 with 1 Axes>"
      ]
     },
     "metadata": {
      "needs_background": "light"
     },
     "output_type": "display_data"
    }
   ],
   "source": [
    "fig, ax = plt.subplots()\n",
    "ax.plot(list(ms.time), [ms.ca[t]() for t in ms.time])\n",
    "ax.scatter(data[0]['ca_exp'].keys(), data[0]['ca_exp'].values())"
   ]
  },
  {
   "cell_type": "code",
   "execution_count": 21,
   "metadata": {},
   "outputs": [
    {
     "data": {
      "text/plain": [
       "<matplotlib.collections.PathCollection at 0x1a243ca240>"
      ]
     },
     "execution_count": 21,
     "metadata": {},
     "output_type": "execute_result"
    },
    {
     "data": {
      "image/png": "[encoded data removed]",
      "text/plain": [
       "<Figure size 432x288 with 1 Axes>"
      ]
     },
     "metadata": {
      "needs_background": "light"
     },
     "output_type": "display_data"
    }
   ],
   "source": [
    "fig, ax = plt.subplots()\n",
    "ax.plot(list(ms.time), [ms.cb[t]() for t in ms.time])\n",
    "ax.scatter(data[0]['cb_exp'].keys(), data[0]['cb_exp'].values())"
   ]
  },
  {
   "cell_type": "code",
   "execution_count": 22,
   "metadata": {},
   "outputs": [
    {
     "data": {
      "text/plain": [
       "<matplotlib.collections.PathCollection at 0x1a24512ac8>"
      ]
     },
     "execution_count": 22,
     "metadata": {},
     "output_type": "execute_result"
    },
    {
     "data": {
      "image/png": "[encoded data removed]",
      "text/plain": [
       "<Figure size 432x288 with 1 Axes>"
      ]
     },
     "metadata": {
      "needs_background": "light"
     },
     "output_type": "display_data"
    }
   ],
   "source": [
    "fig, ax = plt.subplots()\n",
    "ax.plot(list(ms.time), [ms.cc[t]() for t in ms.time])\n",
    "ax.scatter(data[0]['cc_exp'].keys(), data[0]['cc_exp'].values())"
   ]
  },
  {
   "cell_type": "code",
   "execution_count": null,
   "metadata": {},
   "outputs": [],
   "source": []
  }
 ],
 "metadata": {
  "kernelspec": {
   "display_name": "Python 3",
   "language": "python",
   "name": "python3"
  },
  "language_info": {
   "codemirror_mode": {
    "name": "ipython",
    "version": 3
   },
   "file_extension": ".py",
   "mimetype": "text/x-python",
   "name": "python",
   "nbconvert_exporter": "python",
   "pygments_lexer": "ipython3",
   "version": "3.6.9"
  }
 },
 "nbformat": 4,
 "nbformat_minor": 2
}
