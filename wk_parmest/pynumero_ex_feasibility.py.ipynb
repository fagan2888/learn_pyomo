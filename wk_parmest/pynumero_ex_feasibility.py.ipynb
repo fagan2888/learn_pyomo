{
 "cells": [
  {
   "cell_type": "code",
   "execution_count": 1,
   "metadata": {},
   "outputs": [],
   "source": [
    "# \n",
    "# https://github.com/Pyomo/pyomo/blob/master/pyomo/contrib/pynumero/examples/feasibility.py\n",
    "#"
   ]
  },
  {
   "cell_type": "code",
   "execution_count": 2,
   "metadata": {},
   "outputs": [],
   "source": [
    "from pyomo.contrib.pynumero.interfaces import PyomoNLP\n",
    "import matplotlib.pylab as plt\n",
    "import pyomo.environ as aml\n",
    "import numpy as np"
   ]
  },
  {
   "cell_type": "code",
   "execution_count": 3,
   "metadata": {},
   "outputs": [
    {
     "name": "stdout",
     "output_type": "stream",
     "text": [
      "5.6.8\n"
     ]
    }
   ],
   "source": [
    "from pyomo.version.info import version\n",
    "print(version)"
   ]
  },
  {
   "cell_type": "code",
   "execution_count": 4,
   "metadata": {},
   "outputs": [],
   "source": [
    "def create_basic_model():\n",
    "\n",
    "    m = aml.ConcreteModel()\n",
    "    m.x = aml.Var([1, 2, 3], domain=aml.Reals)\n",
    "    for i in range(1, 4):\n",
    "        m.x[i].value = i\n",
    "    m.c1 = aml.Constraint(expr=m.x[1] ** 2 - m.x[2] - 1 == 0)\n",
    "    m.c2 = aml.Constraint(expr=m.x[1] - m.x[3] - 0.5 == 0)\n",
    "    m.d1 = aml.Constraint(expr=m.x[1] + m.x[2] <= 100.0)\n",
    "    m.d2 = aml.Constraint(expr=m.x[2] + m.x[3] >= -100.0)\n",
    "    m.d3 = aml.Constraint(expr=m.x[2] + m.x[3] + m.x[1] >= -500.0)\n",
    "    m.x[2].setlb(0.0)\n",
    "    m.x[3].setlb(0.0)\n",
    "    m.x[2].setub(100.0)\n",
    "    m.obj = aml.Objective(expr=m.x[2]**2)\n",
    "    return m"
   ]
  },
  {
   "cell_type": "code",
   "execution_count": 5,
   "metadata": {},
   "outputs": [
    {
     "name": "stdout",
     "output_type": "stream",
     "text": [
      "Ipopt 3.11.1: \n",
      "\n",
      "******************************************************************************\n",
      "This program contains Ipopt, a library for large-scale nonlinear optimization.\n",
      " Ipopt is released as open source code under the Eclipse Public License (EPL).\n",
      "         For more information visit http://projects.coin-or.org/Ipopt\n",
      "******************************************************************************\n",
      "\n",
      "NOTE: You are using Ipopt by default with the MUMPS linear solver.\n",
      "      Other linear solvers might be more efficient (see Ipopt documentation).\n",
      "\n",
      "\n",
      "This is Ipopt version 3.11.1, running with linear solver mumps.\n",
      "\n",
      "Number of nonzeros in equality constraint Jacobian...:        4\n",
      "Number of nonzeros in inequality constraint Jacobian.:        7\n",
      "Number of nonzeros in Lagrangian Hessian.............:        2\n",
      "\n",
      "Total number of variables............................:        3\n",
      "                     variables with only lower bounds:        1\n",
      "                variables with lower and upper bounds:        1\n",
      "                     variables with only upper bounds:        0\n",
      "Total number of equality constraints.................:        2\n",
      "Total number of inequality constraints...............:        3\n",
      "        inequality constraints with only lower bounds:        2\n",
      "   inequality constraints with lower and upper bounds:        0\n",
      "        inequality constraints with only upper bounds:        1\n",
      "\n",
      "iter    objective    inf_pr   inf_du lg(mu)  ||d||  lg(rg) alpha_du alpha_pr  ls\n",
      "   0  4.0000000e+00 2.50e+00 3.00e-01  -1.0 0.00e+00    -  0.00e+00 0.00e+00   0\n",
      "   1  1.9116173e-01 4.78e-02 9.31e-01  -1.0 3.84e+00    -  9.75e-01 1.00e+00f  1\n",
      "   2  8.7148219e-02 6.06e-03 1.88e-02  -1.0 2.98e-01    -  9.97e-01 1.00e+00h  1\n",
      "   3  2.0466616e-02 4.81e-03 1.01e-02  -2.5 2.91e-01    -  1.00e+00 1.00e+00f  1\n",
      "   4  5.6593680e-03 1.15e-03 9.88e-04  -2.5 1.36e-01    -  1.00e+00 1.00e+00h  1\n",
      "   5  1.4238873e-03 3.47e-04 1.26e-04  -3.8 7.47e-02    -  1.00e+00 1.00e+00h  1\n",
      "   6  3.9457827e-04 7.99e-05 2.92e-06  -3.8 3.58e-02    -  1.00e+00 1.00e+00h  1\n",
      "   7  9.8757156e-05 2.45e-05 1.44e-06  -5.7 1.98e-02    -  1.00e+00 1.00e+00h  1\n",
      "   8  2.5152332e-05 6.06e-06 1.04e-08  -5.7 9.84e-03    -  1.00e+00 1.00e+00h  1\n",
      "   9  6.7589829e-06 1.46e-06 1.84e-11  -5.7 4.83e-03    -  1.00e+00 1.00e+00h  1\n",
      "iter    objective    inf_pr   inf_du lg(mu)  ||d||  lg(rg) alpha_du alpha_pr  ls\n",
      "  10  1.6897762e-06 4.22e-07 2.39e-09  -8.6 2.60e-03    -  1.00e+00 1.00e+00h  1\n",
      "  11  4.2306732e-07 1.05e-07 2.32e-12  -8.6 1.30e-03    -  1.00e+00 1.00e+00h  1\n",
      "  12  1.0639280e-07 2.63e-08 2.51e-14  -8.6 6.49e-04    -  1.00e+00 1.00e+00h  1\n",
      "  13  2.7227635e-08 6.49e-09 2.51e-14  -8.6 3.22e-04    -  1.00e+00 1.00e+00h  1\n",
      "  14  7.4474039e-09 1.55e-09 2.51e-14  -8.6 1.57e-04    -  1.00e+00 1.00e+00h  1\n",
      "  15  2.0958104e-09 4.10e-10 6.48e-14  -9.0 8.10e-05    -  1.00e+00 1.00e+00h  1\n",
      "\n",
      "Number of Iterations....: 15\n",
      "\n",
      "                                   (scaled)                 (unscaled)\n",
      "Objective...............:   2.0958104423279885e-09    2.0958104423279885e-09\n",
      "Dual infeasibility......:   6.4808454917911372e-14    6.4808454917911372e-14\n",
      "Constraint violation....:   4.1042969023408205e-10    4.1042969023408205e-10\n",
      "Complementarity.........:   4.1924951169399577e-09    4.1924951169399577e-09\n",
      "Overall NLP error.......:   4.1924951169399577e-09    4.1924951169399577e-09\n",
      "\n",
      "\n",
      "Number of objective function evaluations             = 16\n",
      "Number of objective gradient evaluations             = 16\n",
      "Number of equality constraint evaluations            = 16\n",
      "Number of inequality constraint evaluations          = 16\n",
      "Number of equality constraint Jacobian evaluations   = 16\n",
      "Number of inequality constraint Jacobian evaluations = 16\n",
      "Number of Lagrangian Hessian evaluations             = 15\n",
      "Total CPU secs in IPOPT (w/o function evaluations)   =      0.006\n",
      "Total CPU secs in NLP function evaluations           =      0.000\n",
      "\n",
      "EXIT: Optimal Solution Found.\n"
     ]
    },
    {
     "data": {
      "text/plain": [
       "{'Problem': [{'Lower bound': -inf, 'Upper bound': inf, 'Number of objectives': 1, 'Number of constraints': 5, 'Number of variables': 3, 'Sense': 'unknown'}], 'Solver': [{'Status': 'ok', 'Message': 'Ipopt 3.11.1\\\\x3a Optimal Solution Found', 'Termination condition': 'optimal', 'Id': 0, 'Error rc': 0, 'Time': 0.05443406105041504}], 'Solution': [OrderedDict([('number of solutions', 0), ('number of solutions displayed', 0)])]}"
      ]
     },
     "execution_count": 5,
     "metadata": {},
     "output_type": "execute_result"
    }
   ],
   "source": [
    "model = create_basic_model()\n",
    "solver = aml.SolverFactory('ipopt')\n",
    "solver.solve(model, tee=True)"
   ]
  },
  {
   "cell_type": "code",
   "execution_count": 6,
   "metadata": {},
   "outputs": [
    {
     "ename": "RuntimeError",
     "evalue": "ASL interface is not supported on this platform (posix)",
     "output_type": "error",
     "traceback": [
      "\u001b[0;31m---------------------------------------------------------------------------\u001b[0m",
      "\u001b[0;31mRuntimeError\u001b[0m                              Traceback (most recent call last)",
      "\u001b[0;32m<ipython-input-6-73f05656338d>\u001b[0m in \u001b[0;36m<module>\u001b[0;34m\u001b[0m\n\u001b[1;32m      1\u001b[0m \u001b[0;31m# build nlp initialized at the solution\u001b[0m\u001b[0;34m\u001b[0m\u001b[0;34m\u001b[0m\u001b[0;34m\u001b[0m\u001b[0m\n\u001b[0;32m----> 2\u001b[0;31m \u001b[0mnlp\u001b[0m \u001b[0;34m=\u001b[0m \u001b[0mPyomoNLP\u001b[0m\u001b[0;34m(\u001b[0m\u001b[0mmodel\u001b[0m\u001b[0;34m)\u001b[0m\u001b[0;34m\u001b[0m\u001b[0;34m\u001b[0m\u001b[0m\n\u001b[0m",
      "\u001b[0;32m~/anaconda3/lib/python3.6/site-packages/pyomo/contrib/pynumero/interfaces/nlp.py\u001b[0m in \u001b[0;36m__init__\u001b[0;34m(self, model)\u001b[0m\n\u001b[1;32m   1482\u001b[0m             \u001b[0mnl_file\u001b[0m \u001b[0;34m=\u001b[0m \u001b[0mfilename\u001b[0m\u001b[0;34m+\u001b[0m\u001b[0;34m\".nl\"\u001b[0m\u001b[0;34m\u001b[0m\u001b[0;34m\u001b[0m\u001b[0m\n\u001b[1;32m   1483\u001b[0m \u001b[0;34m\u001b[0m\u001b[0m\n\u001b[0;32m-> 1484\u001b[0;31m             \u001b[0msuper\u001b[0m\u001b[0;34m(\u001b[0m\u001b[0mPyomoNLP\u001b[0m\u001b[0;34m,\u001b[0m \u001b[0mself\u001b[0m\u001b[0;34m)\u001b[0m\u001b[0;34m.\u001b[0m\u001b[0m__init__\u001b[0m\u001b[0;34m(\u001b[0m\u001b[0mnl_file\u001b[0m\u001b[0;34m)\u001b[0m\u001b[0;34m\u001b[0m\u001b[0;34m\u001b[0m\u001b[0m\n\u001b[0m\u001b[1;32m   1485\u001b[0m             \u001b[0mself\u001b[0m\u001b[0;34m.\u001b[0m\u001b[0m_model\u001b[0m \u001b[0;34m=\u001b[0m \u001b[0mmodel\u001b[0m\u001b[0;34m\u001b[0m\u001b[0;34m\u001b[0m\u001b[0m\n\u001b[1;32m   1486\u001b[0m \u001b[0;34m\u001b[0m\u001b[0m\n",
      "\u001b[0;32m~/anaconda3/lib/python3.6/site-packages/pyomo/contrib/pynumero/interfaces/nlp.py\u001b[0m in \u001b[0;36m__init__\u001b[0;34m(self, model, **kwargs)\u001b[0m\n\u001b[1;32m    856\u001b[0m \u001b[0;34m\u001b[0m\u001b[0m\n\u001b[1;32m    857\u001b[0m         \u001b[0;31m# ampl interface\u001b[0m\u001b[0;34m\u001b[0m\u001b[0;34m\u001b[0m\u001b[0;34m\u001b[0m\u001b[0m\n\u001b[0;32m--> 858\u001b[0;31m         \u001b[0mself\u001b[0m\u001b[0;34m.\u001b[0m\u001b[0m_asl\u001b[0m \u001b[0;34m=\u001b[0m \u001b[0m_asl\u001b[0m\u001b[0;34m.\u001b[0m\u001b[0mAmplInterface\u001b[0m\u001b[0;34m(\u001b[0m\u001b[0mself\u001b[0m\u001b[0;34m.\u001b[0m\u001b[0m_model\u001b[0m\u001b[0;34m)\u001b[0m\u001b[0;34m\u001b[0m\u001b[0;34m\u001b[0m\u001b[0m\n\u001b[0m\u001b[1;32m    859\u001b[0m \u001b[0;34m\u001b[0m\u001b[0m\n\u001b[1;32m    860\u001b[0m         \u001b[0;31m# ToDo: remove this after new pynumero libraries get merged in conda-forge\u001b[0m\u001b[0;34m\u001b[0m\u001b[0;34m\u001b[0m\u001b[0;34m\u001b[0m\u001b[0m\n",
      "\u001b[0;32m~/anaconda3/lib/python3.6/site-packages/pyomo/contrib/pynumero/extensions/asl.py\u001b[0m in \u001b[0;36m__init__\u001b[0;34m(self, filename, nl_buffer)\u001b[0m\n\u001b[1;32m     32\u001b[0m             raise RuntimeError(\n\u001b[1;32m     33\u001b[0m                 \u001b[0;34m\"ASL interface is not supported on this platform (%s)\"\u001b[0m\u001b[0;34m\u001b[0m\u001b[0;34m\u001b[0m\u001b[0m\n\u001b[0;32m---> 34\u001b[0;31m                 % (os.name,) )\n\u001b[0m\u001b[1;32m     35\u001b[0m \u001b[0;34m\u001b[0m\u001b[0m\n\u001b[1;32m     36\u001b[0m         \u001b[0;32mif\u001b[0m \u001b[0mnl_buffer\u001b[0m \u001b[0;32mis\u001b[0m \u001b[0;32mnot\u001b[0m \u001b[0;32mNone\u001b[0m\u001b[0;34m:\u001b[0m\u001b[0;34m\u001b[0m\u001b[0;34m\u001b[0m\u001b[0m\n",
      "\u001b[0;31mRuntimeError\u001b[0m: ASL interface is not supported on this platform (posix)"
     ]
    }
   ],
   "source": [
    "# build nlp initialized at the solution\n",
    "nlp = PyomoNLP(model)"
   ]
  },
  {
   "cell_type": "code",
   "execution_count": null,
   "metadata": {},
   "outputs": [],
   "source": []
  }
 ],
 "metadata": {
  "kernelspec": {
   "display_name": "Python 3",
   "language": "python",
   "name": "python3"
  },
  "language_info": {
   "codemirror_mode": {
    "name": "ipython",
    "version": 3
   },
   "file_extension": ".py",
   "mimetype": "text/x-python",
   "name": "python",
   "nbconvert_exporter": "python",
   "pygments_lexer": "ipython3",
   "version": "3.6.9"
  }
 },
 "nbformat": 4,
 "nbformat_minor": 2
}
