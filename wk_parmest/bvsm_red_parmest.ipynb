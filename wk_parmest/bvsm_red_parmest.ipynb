{
 "cells": [
  {
   "cell_type": "code",
   "execution_count": null,
   "metadata": {},
   "outputs": [],
   "source": [
    "#\n",
    "# https://github.com/rawlings-group/paresto/blob/master/examples/green_book/bvsm_red.m\n",
    "#"
   ]
  },
  {
   "cell_type": "code",
   "execution_count": 1,
   "metadata": {},
   "outputs": [],
   "source": [
    "# Import libraries\n",
    "from pyomo.environ import *\n",
    "from pyomo.dae import *\n",
    "import pyomo.contrib.parmest.parmest as parmest\n",
    "import pandas as pd\n",
    "import numpy as np\n",
    "import matplotlib.pyplot as plt\n",
    "from scipy.interpolate import interp1d"
   ]
  },
  {
   "cell_type": "code",
   "execution_count": 2,
   "metadata": {},
   "outputs": [],
   "source": [
    "# load flow rate data\n",
    "flow_data = pd.read_csv('flow_data.csv')\n",
    "lc_data = pd.read_csv('lc_data.csv')\n",
    "teaf      = 0.00721\n",
    "teaden    = 0.728\n",
    "cBf = teaf"
   ]
  },
  {
   "cell_type": "code",
   "execution_count": 3,
   "metadata": {},
   "outputs": [],
   "source": [
    "tQf = np.insert(flow_data['t'].values, 0, 0)\n",
    "Qf = np.insert(flow_data[\"Qf\"].values / teaden, 0, 0)"
   ]
  },
  {
   "cell_type": "code",
   "execution_count": 4,
   "metadata": {},
   "outputs": [],
   "source": [
    "tlc = lc_data['t'].values\n",
    "lc = lc_data['lc_meas'].values"
   ]
  },
  {
   "cell_type": "code",
   "execution_count": 5,
   "metadata": {},
   "outputs": [],
   "source": [
    "tout = np.sort(np.unique(np.concatenate((tQf, tlc))))"
   ]
  },
  {
   "cell_type": "code",
   "execution_count": 6,
   "metadata": {},
   "outputs": [],
   "source": [
    "Qf_if = interp1d(tQf, Qf, 'previous', bounds_error = False)\n",
    "lc_if = interp1d(tlc, lc, 'previous', bounds_error = False)"
   ]
  },
  {
   "cell_type": "code",
   "execution_count": 7,
   "metadata": {},
   "outputs": [],
   "source": [
    "data = [{'tout': tout, 'tlc': tlc, 'Qf_if': Qf_if, 'lc':lc, 'cBf': cBf}]"
   ]
  },
  {
   "cell_type": "code",
   "execution_count": 21,
   "metadata": {},
   "outputs": [],
   "source": [
    "def bvsm_model(data):\n",
    "    \n",
    "    tout = data['tout']\n",
    "    tlc = data['tlc']\n",
    "    Qf_if = data['Qf_if']\n",
    "    lc_m = data['lc']\n",
    "    cBf = data['cBf']\n",
    "    \n",
    "    Vr0 = 2370\n",
    "    \n",
    "    m = ConcreteModel()\n",
    "    \n",
    "    m.k = Var(initialize = 2, bounds = (1e-2, 10))\n",
    "    m.nA0 = Var(initialize = 2.35, bounds = (2, 3))\n",
    "    \n",
    "    m.time = ContinuousSet(bounds = (0, max(tout)), initialize = tout)\n",
    "    \n",
    "    m.Vr = Var(m.time, initialize = Vr0, bounds = (Vr0,None))\n",
    "    m.reps2 = Var(m.time, initialize = 0)\n",
    "    m.y = Var(m.time, initialize = 0.5, bounds = (0, 1))\n",
    "    \n",
    "    m.dVr = DerivativeVar(m.Vr)\n",
    "    m.dreps2 = DerivativeVar(m.reps2)\n",
    "    \n",
    "    def _dVr_eq(m, t):\n",
    "        if t == 0:\n",
    "            return Constraint.Skip\n",
    "        else:\n",
    "            return m.dVr[t] == float(Qf_if(t))\n",
    "    m.dVr_eq = Constraint(m.time, rule = _dVr_eq)\n",
    "    \n",
    "    def _dreps2_eq(m, t):\n",
    "        if t == 0:\n",
    "            return Constraint.Skip\n",
    "        else:\n",
    "            Badded = (m.Vr[t] - Vr0) * cBf\n",
    "            expr1 = m.k * (m.nA0 - Badded + m.reps2[t]) / (Badded - 2 * m.reps2[t] + 1e-6)\n",
    "            return m.dreps2[t] == float(Qf_if(t)) * cBf / (1.0 + expr1)\n",
    "        m.dreps2_eq = Constraint(m.time, rule = _dreps2_eq)\n",
    "    \n",
    "    def _ycalc(m, t):\n",
    "        if t == 0:\n",
    "            return Constraint.Skip\n",
    "        else:\n",
    "            Badded = (m.Vr[t] - Vr0) * cBf\n",
    "            nD = m.reps2[t]\n",
    "            nC = Badded - 2 * nD\n",
    "            return m.y[t] == nC / (nC + 2 * nD + 1.0e-6)\n",
    "    m.ycalc = Constraint(m.time, rule = _ycalc)\n",
    "    \n",
    "    def _initcon(m):\n",
    "        yield m.Vr[m.time.first()] == Vr0\n",
    "        yield m.reps2[m.time.first()] == 0.0\n",
    "    m.initcon = ConstraintList(rule = _initcon)\n",
    "    \n",
    "    def ComputeFirstStageCost_rule(m):\n",
    "        return 0\n",
    "    m.FirstStageCost = Expression(rule=ComputeFirstStageCost_rule)\n",
    "\n",
    "    def ComputeSecondStageCost_rule(m):\n",
    "#        return sum((float(lc_if(t)) / m.y[t] - 1.0) ** 2 for t in tlc) \n",
    "        return sum((float(lc_if(t)) - m.y[t]) ** 2 for t in tlc) \n",
    "    m.SecondStageCost = Expression(rule=ComputeSecondStageCost_rule)\n",
    "   \n",
    "    def total_cost_rule(model):\n",
    "        return model.FirstStageCost + model.SecondStageCost\n",
    "    m.Total_Cost_Objective = Objective(rule=total_cost_rule, sense=minimize)\n",
    "    \n",
    "    #disc = TransformationFactory('dae.collocation')\n",
    "    #disc.apply_to(m, nfe=200, ncp=2)\n",
    "    \n",
    "    disc = TransformationFactory('dae.finite_difference')\n",
    "    disc.apply_to(m, nfe=500, scheme = 'BACKWARD')\n",
    "    \n",
    "    return m"
   ]
  },
  {
   "cell_type": "code",
   "execution_count": 22,
   "metadata": {},
   "outputs": [],
   "source": [
    "# parameters to be estimated\n",
    "theta_names = ['k', 'nA0']"
   ]
  },
  {
   "cell_type": "code",
   "execution_count": 23,
   "metadata": {},
   "outputs": [],
   "source": [
    "pest = parmest.Estimator(bvsm_model, data, theta_names, tee = True)"
   ]
  },
  {
   "cell_type": "code",
   "execution_count": 24,
   "metadata": {},
   "outputs": [
    {
     "name": "stdout",
     "output_type": "stream",
     "text": [
      "Ipopt 3.11.1: max_iter=6000\n",
      "\n",
      "\n",
      "******************************************************************************\n",
      "This program contains Ipopt, a library for large-scale nonlinear optimization.\n",
      " Ipopt is released as open source code under the Eclipse Public License (EPL).\n",
      "         For more information visit http://projects.coin-or.org/Ipopt\n",
      "******************************************************************************\n",
      "\n",
      "NOTE: You are using Ipopt by default with the MUMPS linear solver.\n",
      "      Other linear solvers might be more efficient (see Ipopt documentation).\n",
      "\n",
      "\n",
      "This is Ipopt version 3.11.1, running with linear solver mumps.\n",
      "\n",
      "Number of nonzeros in equality constraint Jacobian...:     5006\n",
      "Number of nonzeros in inequality constraint Jacobian.:        0\n",
      "Number of nonzeros in Lagrangian Hessian.............:     1535\n",
      "\n",
      "Total number of variables............................:     2506\n",
      "                     variables with only lower bounds:      501\n",
      "                variables with lower and upper bounds:      502\n",
      "                     variables with only upper bounds:        0\n",
      "Total number of equality constraints.................:     2004\n",
      "Total number of inequality constraints...............:        0\n",
      "        inequality constraints with only lower bounds:        0\n",
      "   inequality constraints with lower and upper bounds:        0\n",
      "        inequality constraints with only upper bounds:        0\n",
      "\n",
      "iter    objective    inf_pr   inf_du lg(mu)  ||d||  lg(rg) alpha_du alpha_pr  ls\n",
      "   0  6.5229262e+00 2.37e+01 1.00e+00  -1.0 0.00e+00    -  0.00e+00 0.00e+00   0\n",
      "   1  2.9281386e+00 4.90e+01 2.51e+01  -1.0 6.01e+02    -  3.76e-02 9.90e-01f  1\n",
      "   2  1.6515745e+00 4.58e+03 2.49e-01  -1.0 6.01e+00    -  9.81e-01 9.90e-01h  1\n",
      "   3  1.2379263e+00 2.42e+02 2.11e+01  -1.0 1.54e+00    -  1.00e+00 5.00e-01h  2\n",
      "   4  1.0490672e+00 2.31e+01 5.19e+01  -1.0 2.12e+00    -  1.00e+00 5.00e-01h  2\n",
      "   5  8.7286085e-01 9.79e+01 1.00e-06  -1.0 1.06e+00    -  1.00e+00 1.00e+00h  1\n",
      "   6  2.5042187e-01 1.26e-09 1.11e+01  -2.5 1.73e-01    -  9.33e-01 1.00e+00f  1\n",
      "   7  4.9536248e-02 1.26e-09 2.83e-08  -2.5 1.13e-01    -  1.00e+00 1.00e+00f  1\n",
      "   8  5.2451042e-03 2.29e-09 1.50e-09  -3.8 6.60e-02    -  1.00e+00 1.00e+00f  1\n",
      "   9  3.4792203e-04 1.26e-09 1.50e-09  -3.8 2.81e-02    -  1.00e+00 1.00e+00f  1\n",
      "iter    objective    inf_pr   inf_du lg(mu)  ||d||  lg(rg) alpha_du alpha_pr  ls\n",
      "  10  2.8283762e-06 1.26e-09 1.85e-11  -5.7 1.06e-02    -  1.00e+00 1.00e+00f  1\n",
      "  11  1.1813305e-08 2.29e-09 1.84e-11  -5.7 1.33e-03    -  1.00e+00 1.00e+00h  1\n",
      "  12  3.5930866e-14 1.26e-09 2.51e-14  -8.6 7.48e-05    -  1.00e+00 1.00e+00h  1\n",
      "\n",
      "Number of Iterations....: 12\n",
      "\n",
      "                                   (scaled)                 (unscaled)\n",
      "Objective...............:   3.5930866179216368e-14    3.5930866179216368e-14\n",
      "Dual infeasibility......:   2.5076403627199984e-14    2.5076403627199984e-14\n",
      "Constraint violation....:   5.4245496983185149e-13    1.2623785905496732e-09\n",
      "Complementarity.........:   4.7773154900067194e-09    4.7773154900067194e-09\n",
      "Overall NLP error.......:   4.7773154900067194e-09    4.7773154900067194e-09\n",
      "\n",
      "\n",
      "Number of objective function evaluations             = 17\n",
      "Number of objective gradient evaluations             = 13\n",
      "Number of equality constraint evaluations            = 17\n",
      "Number of inequality constraint evaluations          = 0\n",
      "Number of equality constraint Jacobian evaluations   = 13\n",
      "Number of inequality constraint Jacobian evaluations = 0\n",
      "Number of Lagrangian Hessian evaluations             = 12\n",
      "Total CPU secs in IPOPT (w/o function evaluations)   =      0.097\n",
      "Total CPU secs in NLP function evaluations           =      0.006\n",
      "\n",
      "EXIT: Optimal Solution Found.\n"
     ]
    }
   ],
   "source": [
    "obj, theta = pest.theta_est()"
   ]
  },
  {
   "cell_type": "code",
   "execution_count": 25,
   "metadata": {},
   "outputs": [
    {
     "data": {
      "text/plain": [
       "{'k': 5.005000045, 'nA0': 2.500000005}"
      ]
     },
     "execution_count": 25,
     "metadata": {},
     "output_type": "execute_result"
    }
   ],
   "source": [
    "theta"
   ]
  },
  {
   "cell_type": "code",
   "execution_count": 26,
   "metadata": {},
   "outputs": [
    {
     "name": "stdout",
     "output_type": "stream",
     "text": [
      "Ipopt 3.11.1: \n",
      "\n",
      "******************************************************************************\n",
      "This program contains Ipopt, a library for large-scale nonlinear optimization.\n",
      " Ipopt is released as open source code under the Eclipse Public License (EPL).\n",
      "         For more information visit http://projects.coin-or.org/Ipopt\n",
      "******************************************************************************\n",
      "\n",
      "NOTE: You are using Ipopt by default with the MUMPS linear solver.\n",
      "      Other linear solvers might be more efficient (see Ipopt documentation).\n",
      "\n",
      "\n",
      "This is Ipopt version 3.11.1, running with linear solver mumps.\n",
      "\n",
      "Number of nonzeros in equality constraint Jacobian...:     5002\n",
      "Number of nonzeros in inequality constraint Jacobian.:        0\n",
      "Number of nonzeros in Lagrangian Hessian.............:     1535\n",
      "\n",
      "Total number of variables............................:     2502\n",
      "                     variables with only lower bounds:      501\n",
      "                variables with lower and upper bounds:      500\n",
      "                     variables with only upper bounds:        0\n",
      "Total number of equality constraints.................:     2002\n",
      "Total number of inequality constraints...............:        0\n",
      "        inequality constraints with only lower bounds:        0\n",
      "   inequality constraints with lower and upper bounds:        0\n",
      "        inequality constraints with only upper bounds:        0\n",
      "\n",
      "iter    objective    inf_pr   inf_du lg(mu)  ||d||  lg(rg) alpha_du alpha_pr  ls\n",
      "   0  6.5229262e+00 2.37e+01 1.00e+00  -1.0 0.00e+00    -  0.00e+00 0.00e+00   0\n",
      "   1  2.9281386e+00 4.90e+01 2.51e+01  -1.0 6.01e+02    -  3.76e-02 9.90e-01f  1\n",
      "   2  1.6515745e+00 4.58e+03 2.49e-01  -1.0 6.01e+00    -  9.81e-01 9.90e-01h  1\n",
      "   3  1.2379263e+00 2.42e+02 2.11e+01  -1.0 1.62e-01    -  1.00e+00 5.00e-01h  2\n",
      "   4  1.0490672e+00 2.31e+01 5.19e+01  -1.0 8.25e-02    -  1.00e+00 5.00e-01h  2\n",
      "   5  8.7286085e-01 9.79e+01 1.00e-06  -1.0 4.19e-02    -  1.00e+00 1.00e+00h  1\n",
      "   6  2.5042187e-01 1.26e-09 1.11e+01  -2.5 1.73e-01    -  9.33e-01 1.00e+00f  1\n",
      "   7  4.9536248e-02 1.26e-09 2.83e-08  -2.5 1.13e-01    -  1.00e+00 1.00e+00f  1\n",
      "   8  5.2451042e-03 2.29e-09 1.50e-09  -3.8 6.60e-02    -  1.00e+00 1.00e+00f  1\n",
      "   9  3.4792203e-04 1.26e-09 1.50e-09  -3.8 2.81e-02    -  1.00e+00 1.00e+00f  1\n",
      "iter    objective    inf_pr   inf_du lg(mu)  ||d||  lg(rg) alpha_du alpha_pr  ls\n",
      "  10  2.8283762e-06 1.26e-09 1.85e-11  -5.7 1.06e-02    -  1.00e+00 1.00e+00f  1\n",
      "  11  1.1813305e-08 2.29e-09 1.84e-11  -5.7 1.33e-03    -  1.00e+00 1.00e+00h  1\n",
      "  12  3.5930866e-14 1.26e-09 2.51e-14  -8.6 7.48e-05    -  1.00e+00 1.00e+00h  1\n",
      "\n",
      "Number of Iterations....: 12\n",
      "\n",
      "                                   (scaled)                 (unscaled)\n",
      "Objective...............:   3.5930866179216368e-14    3.5930866179216368e-14\n",
      "Dual infeasibility......:   2.5076403627199984e-14    2.5076403627199984e-14\n",
      "Constraint violation....:   5.4245496983185149e-13    1.2623785905496732e-09\n",
      "Complementarity.........:   4.7773154900067194e-09    4.7773154900067194e-09\n",
      "Overall NLP error.......:   4.7773154900067194e-09    4.7773154900067194e-09\n",
      "\n",
      "\n",
      "Number of objective function evaluations             = 17\n",
      "Number of objective gradient evaluations             = 13\n",
      "Number of equality constraint evaluations            = 17\n",
      "Number of inequality constraint evaluations          = 0\n",
      "Number of equality constraint Jacobian evaluations   = 13\n",
      "Number of inequality constraint Jacobian evaluations = 0\n",
      "Number of Lagrangian Hessian evaluations             = 12\n",
      "Total CPU secs in IPOPT (w/o function evaluations)   =      0.097\n",
      "Total CPU secs in NLP function evaluations           =      0.006\n",
      "\n",
      "EXIT: Optimal Solution Found.\n"
     ]
    },
    {
     "data": {
      "text/plain": [
       "{'Problem': [{'Lower bound': -inf, 'Upper bound': inf, 'Number of objectives': 1, 'Number of constraints': 2002, 'Number of variables': 2502, 'Sense': 'unknown'}], 'Solver': [{'Status': 'ok', 'Message': 'Ipopt 3.11.1\\\\x3a Optimal Solution Found', 'Termination condition': 'optimal', 'Id': 0, 'Error rc': 0, 'Time': 0.15245509147644043}], 'Solution': [OrderedDict([('number of solutions', 0), ('number of solutions displayed', 0)])]}"
      ]
     },
     "execution_count": 26,
     "metadata": {},
     "output_type": "execute_result"
    }
   ],
   "source": [
    "ms = bvsm_model(data[0])\n",
    "ms.k.fix(theta['k'])\n",
    "ms.nA0.fix(theta['nA0'])\n",
    "solver = SolverFactory('ipopt')\n",
    "solver.solve(ms, tee = True)"
   ]
  },
  {
   "cell_type": "code",
   "execution_count": 30,
   "metadata": {},
   "outputs": [
    {
     "data": {
      "text/plain": [
       "[<matplotlib.lines.Line2D at 0x1a1e4561d0>]"
      ]
     },
     "execution_count": 30,
     "metadata": {},
     "output_type": "execute_result"
    },
    {
     "data": {
      "image/png": "[encoded data removed]",
      "text/plain": [
       "<Figure size 432x288 with 1 Axes>"
      ]
     },
     "metadata": {
      "needs_background": "light"
     },
     "output_type": "display_data"
    }
   ],
   "source": [
    "fig, ax = plt.subplots()\n",
    "ax.plot(list(ms.time), [ms.y[t]() for t in ms.time])\n",
    "#ax.scatter(data[0]['tlc'], data[0]['lc'])\n",
    "#ax.set_xlim(400, 900)\n",
    "#ax.set_ylim(0, 0.2)"
   ]
  },
  {
   "cell_type": "code",
   "execution_count": null,
   "metadata": {},
   "outputs": [],
   "source": []
  }
 ],
 "metadata": {
  "kernelspec": {
   "display_name": "Python 3",
   "language": "python",
   "name": "python3"
  },
  "language_info": {
   "codemirror_mode": {
    "name": "ipython",
    "version": 3
   },
   "file_extension": ".py",
   "mimetype": "text/x-python",
   "name": "python",
   "nbconvert_exporter": "python",
   "pygments_lexer": "ipython3",
   "version": "3.6.9"
  }
 },
 "nbformat": 4,
 "nbformat_minor": 2
}
