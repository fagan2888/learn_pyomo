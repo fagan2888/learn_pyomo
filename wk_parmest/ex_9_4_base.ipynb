{
 "cells": [
  {
   "cell_type": "code",
   "execution_count": 2,
   "metadata": {},
   "outputs": [],
   "source": [
    "#\n",
    "# Work through example 9.4 in book\n",
    "# Chemical Reactor Analysis and Design Fundamentals - Rawlings and Ekerdt\n",
    "#\n",
    "# Code from book at\n",
    "# https://sites.engineering.ucsb.edu/~jbraw/chemreacfun/fig-html/ch9/fig-9-21.html\n",
    "#"
   ]
  },
  {
   "cell_type": "code",
   "execution_count": 3,
   "metadata": {},
   "outputs": [],
   "source": [
    "from scipy.integrate import solve_ivp\n",
    "import numpy as np\n",
    "import matplotlib.pyplot as plt\n",
    "import pandas as pd\n",
    "import pyomo.environ as pyo\n",
    "import pyomo.dae as dae\n",
    "import scipy.stats as spstat\n",
    "\n",
    "from pyomo.contrib.pynumero.interfaces.pyomo_nlp import PyomoNLP\n",
    "from pyomo.contrib.pynumero.sparse import BlockSymMatrix, BlockMatrix, BlockVector\n",
    "from scipy.sparse import identity\n",
    "from scipy.sparse.linalg import spsolve\n",
    "\n",
    "import get_redHessian as hess"
   ]
  },
  {
   "cell_type": "code",
   "execution_count": 4,
   "metadata": {},
   "outputs": [
    {
     "data": {
      "text/html": [
       "<div>\n",
       "<style scoped>\n",
       "    .dataframe tbody tr th:only-of-type {\n",
       "        vertical-align: middle;\n",
       "    }\n",
       "\n",
       "    .dataframe tbody tr th {\n",
       "        vertical-align: top;\n",
       "    }\n",
       "\n",
       "    .dataframe thead th {\n",
       "        text-align: right;\n",
       "    }\n",
       "</style>\n",
       "<table border=\"1\" class=\"dataframe\">\n",
       "  <thead>\n",
       "    <tr style=\"text-align: right;\">\n",
       "      <th></th>\n",
       "      <th>t</th>\n",
       "      <th>ca_meas</th>\n",
       "    </tr>\n",
       "  </thead>\n",
       "  <tbody>\n",
       "    <tr>\n",
       "      <td>0</td>\n",
       "      <td>0.000000</td>\n",
       "      <td>2.005422</td>\n",
       "    </tr>\n",
       "    <tr>\n",
       "      <td>1</td>\n",
       "      <td>0.050505</td>\n",
       "      <td>1.753623</td>\n",
       "    </tr>\n",
       "    <tr>\n",
       "      <td>2</td>\n",
       "      <td>0.101010</td>\n",
       "      <td>1.788886</td>\n",
       "    </tr>\n",
       "    <tr>\n",
       "      <td>3</td>\n",
       "      <td>0.151515</td>\n",
       "      <td>1.532534</td>\n",
       "    </tr>\n",
       "    <tr>\n",
       "      <td>4</td>\n",
       "      <td>0.202020</td>\n",
       "      <td>1.438015</td>\n",
       "    </tr>\n",
       "  </tbody>\n",
       "</table>\n",
       "</div>"
      ],
      "text/plain": [
       "          t   ca_meas\n",
       "0  0.000000  2.005422\n",
       "1  0.050505  1.753623\n",
       "2  0.101010  1.788886\n",
       "3  0.151515  1.532534\n",
       "4  0.202020  1.438015"
      ]
     },
     "execution_count": 4,
     "metadata": {},
     "output_type": "execute_result"
    }
   ],
   "source": [
    "# get data\n",
    "data_df = pd.read_csv('ex_9_4_data.csv')\n",
    "data_df.head()"
   ]
  },
  {
   "cell_type": "code",
   "execution_count": 5,
   "metadata": {},
   "outputs": [],
   "source": [
    "data = [{'ca_meas': {k:v for (k, v) in zip(data_df.t, data_df.ca_meas)}}]\n",
    "t_meas = data_df.t\n",
    "ca_meas = data[0]['ca_meas']"
   ]
  },
  {
   "cell_type": "code",
   "execution_count": 6,
   "metadata": {},
   "outputs": [],
   "source": [
    "def create_model(data):\n",
    "\n",
    "    m = pyo.ConcreteModel()\n",
    "\n",
    "    m.t = dae.ContinuousSet(bounds = (0.0, 5.0), initialize = t_meas)\n",
    "    m.ca = pyo.Var(m.t, initialize = 0.0, bounds = (0.0, 5.0))\n",
    "    m.ca0 = pyo.Var(initialize = 1.0, bounds = (1.0, 3.0))\n",
    "    m.n = pyo.Var(initialize = 1, bounds = (1.0e-3, 5))\n",
    "    m.k = pyo.Var(initialize = 0.1, bounds = (1.0e-3, 5))\n",
    "\n",
    "    m.dca = dae.DerivativeVar(m.ca, wrt = m.t)\n",
    "\n",
    "    def _rate_cons(m, t):\n",
    "        if t == 0:\n",
    "            return pyo.Constraint.Skip\n",
    "        else:\n",
    "            expr = m.dca[t] == -m.k * m.ca[t] ** m.n\n",
    "        return expr\n",
    "    m.rate_cons = pyo.Constraint(m.t, rule = _rate_cons)\n",
    "\n",
    "    def _initcon(m):\n",
    "        return m.ca[0] == m.ca0\n",
    "    m.initcon = pyo.Constraint(rule = _initcon)\n",
    "\n",
    "    def _ssq(m):\n",
    "        expr = sum((m.ca[t] - ca_meas[t])**2 for t in t_meas)\n",
    "        return expr\n",
    "    m.ssq = pyo.Objective(rule = _ssq)\n",
    "    \n",
    "    disc = pyo.TransformationFactory('dae.collocation')\n",
    "    disc.apply_to(m, nfe=100, ncp=2)\n",
    "    \n",
    "    return m"
   ]
  },
  {
   "cell_type": "code",
   "execution_count": 8,
   "metadata": {},
   "outputs": [
    {
     "name": "stdout",
     "output_type": "stream",
     "text": [
      "Ipopt 3.11.1: \n",
      "\n",
      "******************************************************************************\n",
      "This program contains Ipopt, a library for large-scale nonlinear optimization.\n",
      " Ipopt is released as open source code under the Eclipse Public License (EPL).\n",
      "         For more information visit http://projects.coin-or.org/Ipopt\n",
      "******************************************************************************\n",
      "\n",
      "NOTE: You are using Ipopt by default with the MUMPS linear solver.\n",
      "      Other linear solvers might be more efficient (see Ipopt documentation).\n",
      "\n",
      "\n",
      "This is Ipopt version 3.11.1, running with linear solver mumps.\n",
      "\n",
      "Number of nonzeros in equality constraint Jacobian...:     1602\n",
      "Number of nonzeros in inequality constraint Jacobian.:        0\n",
      "Number of nonzeros in Lagrangian Hessian.............:      603\n",
      "\n",
      "Total number of variables............................:      404\n",
      "                     variables with only lower bounds:        0\n",
      "                variables with lower and upper bounds:      204\n",
      "                     variables with only upper bounds:        0\n",
      "Total number of equality constraints.................:      401\n",
      "Total number of inequality constraints...............:        0\n",
      "        inequality constraints with only lower bounds:        0\n",
      "   inequality constraints with lower and upper bounds:        0\n",
      "        inequality constraints with only upper bounds:        0\n",
      "\n",
      "iter    objective    inf_pr   inf_du lg(mu)  ||d||  lg(rg) alpha_du alpha_pr  ls\n",
      "   0  6.5355769e+01 1.00e+00 9.50e-01  -1.0 0.00e+00    -  0.00e+00 0.00e+00   0\n",
      "   1  6.5147278e+01 9.88e-01 1.27e+01  -1.0 9.17e-01    -  1.37e-01 1.18e-02f  1\n",
      "   2  6.2025856e+01 9.45e-01 1.17e+02  -1.0 2.22e+01    -  1.61e-02 4.40e-02f  1\n",
      "   3  6.1881018e+01 9.42e-01 1.16e+02  -1.0 8.10e-01   2.0 1.82e-02 3.33e-03h  1\n",
      "   4  5.9885482e+01 8.83e-01 1.13e+02  -1.0 1.46e+00   1.5 2.51e-02 6.21e-02h  1\n",
      "   5  5.7431864e+01 8.33e-01 1.52e+02  -1.0 2.01e+00   1.9 2.02e-02 5.64e-02f  1\n",
      "   6  2.6459714e+01 4.39e-01 7.31e+03  -1.0 8.34e-01   2.4 8.18e-02 1.00e+00f  1\n",
      "   7  2.2715559e+01 5.87e-02 6.53e+02  -1.0 3.72e-01   1.9 2.72e-01 1.00e+00f  1\n",
      "   8  1.9764412e+01 5.26e-03 4.34e+01  -1.0 1.81e-01   1.4 9.27e-01 1.00e+00f  1\n",
      "   9  7.6368037e+00 2.68e-01 2.06e+01  -1.0 1.52e+00    -  3.48e-01 4.91e-01f  1\n",
      "iter    objective    inf_pr   inf_du lg(mu)  ||d||  lg(rg) alpha_du alpha_pr  ls\n",
      "  10  5.6214776e+00 1.10e-01 3.31e+01  -1.0 4.95e+00    -  2.20e-01 7.85e-01f  1\n",
      "  11  7.8364371e+00 3.57e-02 1.19e+01  -1.0 1.52e+00    -  3.78e-01 1.00e+00f  1\n",
      "  12  6.8882968e+00 2.90e-03 1.44e+00  -1.0 6.28e-02   0.9 1.00e+00 1.00e+00h  1\n",
      "  13  5.7816522e+00 2.12e-02 2.96e+00  -1.0 1.09e-01   0.5 6.68e-01 1.00e+00f  1\n",
      "  14  3.2973018e+00 1.87e-01 5.62e+00  -1.0 1.11e+01    -  1.35e-01 3.11e-01f  1\n",
      "  15  2.3866316e+00 6.29e-01 6.83e-01  -1.0 2.61e+00    -  1.67e-01 1.00e+00f  1\n",
      "  16  1.1599178e+00 9.05e-01 1.68e+00  -1.7 1.86e+00    -  7.07e-01 1.00e+00h  1\n",
      "  17  1.0584281e+00 1.82e-01 2.73e-01  -1.7 3.67e-01    -  1.00e+00 1.00e+00h  1\n",
      "  18  1.0476176e+00 9.49e-03 5.36e-03  -1.7 5.37e-02    -  1.00e+00 1.00e+00h  1\n",
      "  19  9.6977013e-01 2.50e-03 2.29e-03  -3.8 1.72e-01    -  9.40e-01 1.00e+00h  1\n",
      "iter    objective    inf_pr   inf_du lg(mu)  ||d||  lg(rg) alpha_du alpha_pr  ls\n",
      "  20  9.6917323e-01 9.59e-05 7.56e-05  -3.8 1.66e-02    -  1.00e+00 1.00e+00h  1\n",
      "  21  9.6916395e-01 4.19e-07 4.75e-07  -5.7 1.67e-03    -  1.00e+00 1.00e+00h  1\n",
      "  22  9.6916393e-01 5.16e-11 6.49e-11  -8.6 1.98e-05    -  1.00e+00 1.00e+00h  1\n",
      "\n",
      "Number of Iterations....: 22\n",
      "\n",
      "                                   (scaled)                 (unscaled)\n",
      "Objective...............:   9.6916393016587488e-01    9.6916393016587488e-01\n",
      "Dual infeasibility......:   6.4913539182789383e-11    6.4913539182789383e-11\n",
      "Constraint violation....:   5.1646686927142582e-11    5.1646686927142582e-11\n",
      "Complementarity.........:   2.5257798419477655e-09    2.5257798419477655e-09\n",
      "Overall NLP error.......:   2.5257798419477655e-09    2.5257798419477655e-09\n",
      "\n",
      "\n",
      "Number of objective function evaluations             = 23\n",
      "Number of objective gradient evaluations             = 23\n",
      "Number of equality constraint evaluations            = 23\n",
      "Number of inequality constraint evaluations          = 0\n",
      "Number of equality constraint Jacobian evaluations   = 23\n",
      "Number of inequality constraint Jacobian evaluations = 0\n",
      "Number of Lagrangian Hessian evaluations             = 22\n",
      "Total CPU secs in IPOPT (w/o function evaluations)   =      0.046\n",
      "Total CPU secs in NLP function evaluations           =      0.003\n",
      "\n",
      "EXIT: Optimal Solution Found.\n"
     ]
    },
    {
     "data": {
      "text/plain": [
       "{'Problem': [{'Lower bound': -inf, 'Upper bound': inf, 'Number of objectives': 1, 'Number of constraints': 401, 'Number of variables': 404, 'Sense': 'unknown'}], 'Solver': [{'Status': 'ok', 'Message': 'Ipopt 3.11.1\\\\x3a Optimal Solution Found', 'Termination condition': 'optimal', 'Id': 0, 'Error rc': 0, 'Time': 0.11332082748413086}], 'Solution': [OrderedDict([('number of solutions', 0), ('number of solutions displayed', 0)])]}"
      ]
     },
     "execution_count": 8,
     "metadata": {},
     "output_type": "execute_result"
    }
   ],
   "source": [
    "mest = create_model(data)\n",
    "solver = pyo.SolverFactory('ipopt')\n",
    "solver.solve(mest, tee = True)"
   ]
  },
  {
   "cell_type": "code",
   "execution_count": 10,
   "metadata": {},
   "outputs": [
    {
     "name": "stdout",
     "output_type": "stream",
     "text": [
      "ca0: 1.9054870413248208 k: 0.4650665657230729 n: 2.3753991642221277\n"
     ]
    }
   ],
   "source": [
    "# Estimated parameters\n",
    "print(\"ca0:\", mest.ca0(), \"k:\", mest.k(), \"n:\", mest.n())"
   ]
  },
  {
   "cell_type": "code",
   "execution_count": 11,
   "metadata": {},
   "outputs": [
    {
     "name": "stdout",
     "output_type": "stream",
     "text": [
      "Hessian from pynumero:\n",
      "[[ 11.38741997 -19.19027396  -2.24618486]\n",
      " [-19.19027396 106.4412372    1.34078414]\n",
      " [ -2.24618486   1.34078414   1.52492085]]\n"
     ]
    }
   ],
   "source": [
    "nlp = PyomoNLP(mest)\n",
    "parm_vars = [mest.ca0, mest.k, mest.n]\n",
    "Hred = hess.getHred(nlp, parm_vars)\n",
    "print(\"Hessian from pynumero:\")\n",
    "print(Hred)"
   ]
  },
  {
   "cell_type": "code",
   "execution_count": 13,
   "metadata": {},
   "outputs": [
    {
     "data": {
      "text/plain": [
       "(100, 3, 0.009991380723359535)"
      ]
     },
     "execution_count": 13,
     "metadata": {},
     "output_type": "execute_result"
    }
   ],
   "source": [
    "n = len(ca_meas)\n",
    "p = 3\n",
    "s2 = mest.ssq() / (n - p)\n",
    "n, p, s2"
   ]
  },
  {
   "cell_type": "code",
   "execution_count": 14,
   "metadata": {},
   "outputs": [
    {
     "data": {
      "text/plain": [
       "matrix([[0.00379661, 0.00062092, 0.0050464 ],\n",
       "        [0.00062092, 0.00029139, 0.00065841],\n",
       "        [0.0050464 , 0.00065841, 0.0199585 ]])"
      ]
     },
     "execution_count": 14,
     "metadata": {},
     "output_type": "execute_result"
    }
   ],
   "source": [
    "# Covariance Matrix\n",
    "cov = 2 * s2 * np.linalg.inv(Hred)\n",
    "cov"
   ]
  },
  {
   "cell_type": "code",
   "execution_count": 15,
   "metadata": {},
   "outputs": [
    {
     "name": "stdout",
     "output_type": "stream",
     "text": [
      "conf multiplier: 2.845205197978177\n",
      "confidence interval delta from nominal [ca0, k, n]\n",
      "[0.17531202 0.04856789 0.40195511]\n"
     ]
    }
   ],
   "source": [
    "parm_sd = np.sqrt(np.diag(cov))\n",
    "conf_mult = np.sqrt(p * spstat.f.ppf(0.95, p, n - p))\n",
    "print(\"conf multiplier:\", conf_mult)\n",
    "conf_int = conf_mult * parm_sd\n",
    "print(\"confidence interval delta from nominal [ca0, k, n]\")\n",
    "print(conf_int)"
   ]
  },
  {
   "cell_type": "code",
   "execution_count": 16,
   "metadata": {},
   "outputs": [
    {
     "name": "stdout",
     "output_type": "stream",
     "text": [
      "Ipopt 3.11.1: \n",
      "\n",
      "******************************************************************************\n",
      "This program contains Ipopt, a library for large-scale nonlinear optimization.\n",
      " Ipopt is released as open source code under the Eclipse Public License (EPL).\n",
      "         For more information visit http://projects.coin-or.org/Ipopt\n",
      "******************************************************************************\n",
      "\n",
      "NOTE: You are using Ipopt by default with the MUMPS linear solver.\n",
      "      Other linear solvers might be more efficient (see Ipopt documentation).\n",
      "\n",
      "\n",
      "This is Ipopt version 3.11.1, running with linear solver mumps.\n",
      "\n",
      "Number of nonzeros in equality constraint Jacobian...:     1201\n",
      "Number of nonzeros in inequality constraint Jacobian.:        0\n",
      "Number of nonzeros in Lagrangian Hessian.............:      201\n",
      "\n",
      "Total number of variables............................:      401\n",
      "                     variables with only lower bounds:        0\n",
      "                variables with lower and upper bounds:      201\n",
      "                     variables with only upper bounds:        0\n",
      "Total number of equality constraints.................:      401\n",
      "Total number of inequality constraints...............:        0\n",
      "        inequality constraints with only lower bounds:        0\n",
      "   inequality constraints with lower and upper bounds:        0\n",
      "        inequality constraints with only upper bounds:        0\n",
      "\n",
      "iter    objective    inf_pr   inf_du lg(mu)  ||d||  lg(rg) alpha_du alpha_pr  ls\n",
      "   0  6.5355769e+01 1.90e+00 3.99e+00  -1.0 0.00e+00    -  0.00e+00 0.00e+00   0\n",
      "   1  1.4878507e+02 2.15e+00 3.81e+03  -1.0 1.90e+00    -  5.48e-03 1.00e+00f  1\n",
      "   2  2.4583374e+01 5.78e-01 8.48e+02  -1.0 2.05e+00    -  8.09e-01 1.00e+00f  1\n",
      "   3  2.6830074e+00 1.55e-01 1.62e+02  -1.0 4.57e-01    -  1.00e+00 1.00e+00f  1\n",
      "   4  9.8569265e-01 2.77e-02 1.27e+01  -1.0 2.13e-01    -  1.00e+00 1.00e+00h  1\n",
      "   5  9.6911185e-01 5.03e-04 4.82e-02  -1.0 3.04e-02    -  1.00e+00 1.00e+00h  1\n",
      "   6  9.6916393e-01 4.39e-08 2.19e-05  -2.5 4.15e-04    -  1.00e+00 1.00e+00h  1\n",
      "   7  9.6916393e-01 1.73e-14 1.36e-11  -3.8 4.01e-08    -  1.00e+00 1.00e+00h  1\n",
      "\n",
      "Number of Iterations....: 7\n",
      "\n",
      "                                   (scaled)                 (unscaled)\n",
      "Objective...............:   9.6916393016322078e-01    9.6916393016322078e-01\n",
      "Dual infeasibility......:   4.4408920985006262e-16    4.4408920985006262e-16\n",
      "Constraint violation....:   1.7319479184152442e-14    1.7319479184152442e-14\n",
      "Complementarity.........:   0.0000000000000000e+00    0.0000000000000000e+00\n",
      "Overall NLP error.......:   1.7319479184152442e-14    1.7319479184152442e-14\n",
      "\n",
      "\n",
      "Number of objective function evaluations             = 8\n",
      "Number of objective gradient evaluations             = 8\n",
      "Number of equality constraint evaluations            = 8\n",
      "Number of inequality constraint evaluations          = 0\n",
      "Number of equality constraint Jacobian evaluations   = 8\n",
      "Number of inequality constraint Jacobian evaluations = 0\n",
      "Number of Lagrangian Hessian evaluations             = 7\n",
      "Total CPU secs in IPOPT (w/o function evaluations)   =      0.014\n",
      "Total CPU secs in NLP function evaluations           =      0.001\n",
      "\n",
      "EXIT: Optimal Solution Found.\n"
     ]
    },
    {
     "data": {
      "text/plain": [
       "{'Problem': [{'Lower bound': -inf, 'Upper bound': inf, 'Number of objectives': 1, 'Number of constraints': 401, 'Number of variables': 401, 'Sense': 'unknown'}], 'Solver': [{'Status': 'ok', 'Message': 'Ipopt 3.11.1\\\\x3a Optimal Solution Found', 'Termination condition': 'optimal', 'Id': 0, 'Error rc': 0, 'Time': 0.052865028381347656}], 'Solution': [OrderedDict([('number of solutions', 0), ('number of solutions displayed', 0)])]}"
      ]
     },
     "execution_count": 16,
     "metadata": {},
     "output_type": "execute_result"
    }
   ],
   "source": [
    "# plot predicted ca vs measured\n",
    "ms = create_model(data)\n",
    "ms.ca0.fix(mest.ca0())\n",
    "ms.k.fix(mest.k())\n",
    "ms.n.fix(mest.n())\n",
    "solver = pyo.SolverFactory('ipopt')\n",
    "solver.solve(ms, tee = True)"
   ]
  },
  {
   "cell_type": "code",
   "execution_count": 20,
   "metadata": {},
   "outputs": [
    {
     "data": {
      "text/plain": [
       "Text(0, 0.5, 'ca')"
      ]
     },
     "execution_count": 20,
     "metadata": {},
     "output_type": "execute_result"
    },
    {
     "data": {
      "image/png": "[encoded data removed]",
      "text/plain": [
       "<Figure size 432x288 with 1 Axes>"
      ]
     },
     "metadata": {
      "needs_background": "light"
     },
     "output_type": "display_data"
    }
   ],
   "source": [
    "fig, ax = plt.subplots()\n",
    "ax.plot(list(ms.t), [ms.ca[t]() for t in ms.t])\n",
    "ax.scatter(data[0]['ca_meas'].keys(), data[0]['ca_meas'].values())\n",
    "ax.set_xlabel('time (min)')\n",
    "ax.set_ylabel('ca')"
   ]
  },
  {
   "cell_type": "code",
   "execution_count": null,
   "metadata": {},
   "outputs": [],
   "source": []
  }
 ],
 "metadata": {
  "kernelspec": {
   "display_name": "Python 3",
   "language": "python",
   "name": "python3"
  },
  "language_info": {
   "codemirror_mode": {
    "name": "ipython",
    "version": 3
   },
   "file_extension": ".py",
   "mimetype": "text/x-python",
   "name": "python",
   "nbconvert_exporter": "python",
   "pygments_lexer": "ipython3",
   "version": "3.6.9"
  }
 },
 "nbformat": 4,
 "nbformat_minor": 2
}
