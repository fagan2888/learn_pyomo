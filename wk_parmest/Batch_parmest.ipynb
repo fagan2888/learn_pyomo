{
 "cells": [
  {
   "cell_type": "code",
   "execution_count": 1,
   "metadata": {},
   "outputs": [],
   "source": [
    "# Recreation of James Rawlings example using pyomo parest\n",
    "# https://github.com/rawlings-group/paresto/blob/master/examples/green_book/batch_data_solution.m"
   ]
  },
  {
   "cell_type": "code",
   "execution_count": 2,
   "metadata": {},
   "outputs": [],
   "source": [
    "# Import libraries\n",
    "from pyomo.environ import *\n",
    "from pyomo.dae import *\n",
    "import pyomo.contrib.parmest.parmest as parmest\n",
    "import pandas as pd\n",
    "import numpy as np\n",
    "import matplotlib.pyplot as plt"
   ]
  },
  {
   "cell_type": "code",
   "execution_count": 3,
   "metadata": {},
   "outputs": [
    {
     "data": {
      "text/html": [
       "<div>\n",
       "<style scoped>\n",
       "    .dataframe tbody tr th:only-of-type {\n",
       "        vertical-align: middle;\n",
       "    }\n",
       "\n",
       "    .dataframe tbody tr th {\n",
       "        vertical-align: top;\n",
       "    }\n",
       "\n",
       "    .dataframe thead th {\n",
       "        text-align: right;\n",
       "    }\n",
       "</style>\n",
       "<table border=\"1\" class=\"dataframe\">\n",
       "  <thead>\n",
       "    <tr style=\"text-align: right;\">\n",
       "      <th></th>\n",
       "      <th>t</th>\n",
       "      <th>ca</th>\n",
       "    </tr>\n",
       "  </thead>\n",
       "  <tbody>\n",
       "    <tr>\n",
       "      <td>0</td>\n",
       "      <td>0</td>\n",
       "      <td>0.83</td>\n",
       "    </tr>\n",
       "    <tr>\n",
       "      <td>1</td>\n",
       "      <td>4</td>\n",
       "      <td>0.68</td>\n",
       "    </tr>\n",
       "    <tr>\n",
       "      <td>2</td>\n",
       "      <td>8</td>\n",
       "      <td>0.59</td>\n",
       "    </tr>\n",
       "    <tr>\n",
       "      <td>3</td>\n",
       "      <td>12</td>\n",
       "      <td>0.51</td>\n",
       "    </tr>\n",
       "    <tr>\n",
       "      <td>4</td>\n",
       "      <td>16</td>\n",
       "      <td>0.43</td>\n",
       "    </tr>\n",
       "  </tbody>\n",
       "</table>\n",
       "</div>"
      ],
      "text/plain": [
       "    t    ca\n",
       "0   0  0.83\n",
       "1   4  0.68\n",
       "2   8  0.59\n",
       "3  12  0.51\n",
       "4  16  0.43"
      ]
     },
     "execution_count": 3,
     "metadata": {},
     "output_type": "execute_result"
    }
   ],
   "source": [
    "data_df = pd.read_csv(\"batch_data.csv\")\n",
    "data_df.head()"
   ]
  },
  {
   "cell_type": "code",
   "execution_count": 4,
   "metadata": {},
   "outputs": [],
   "source": [
    "# Convert data to a list of dictionaries\n",
    "data = [{'ca_meas': {k:v for (k, v) in zip(data_df.t, data_df.ca)}}]"
   ]
  },
  {
   "cell_type": "code",
   "execution_count": 13,
   "metadata": {},
   "outputs": [],
   "source": [
    "#\n",
    "# Define the model \n",
    "#\n",
    "def batch_model(data):\n",
    "    \n",
    "    ca_meas = data['ca_meas']\n",
    "    \n",
    "    meas_t = list(ca_meas.keys())\n",
    "        \n",
    "    m = ConcreteModel()\n",
    "    \n",
    "    m.k1 = Var(initialize = 0.5, bounds = (1e-3, 3))\n",
    "    m.n = Var(initialize = 1.0, bounds = (1e-3, 3))\n",
    "    m.ca0 = Var(initialize = 0.8, bounds = (0.75, 0.9))\n",
    "    \n",
    "    m.time = ContinuousSet(bounds = (0.0, 40.0), initialize = meas_t)\n",
    "    m.ca = Var(m.time, initialize = 0.8, bounds = (0, 0.9))\n",
    "    \n",
    "    m.dca = DerivativeVar(m.ca, wrt = m.time)\n",
    "    \n",
    "    def _dcarate(m, t):\n",
    "        if t == 0:\n",
    "            return Constraint.Skip\n",
    "        else:\n",
    "            return m.dca[t] == -m.k1 * m.ca[t] ** m.n\n",
    "    m.dcarate = Constraint(m.time, rule = _dcarate)\n",
    "        \n",
    "    def _initcon(m):\n",
    "        return m.ca[m.time.first()] == m.ca0\n",
    "    m.initcon = Constraint(rule = _initcon)\n",
    "    \n",
    "    def ComputeFirstStageCost_rule(m):\n",
    "        return 0\n",
    "    m.FirstStageCost = Expression(rule=ComputeFirstStageCost_rule)\n",
    "\n",
    "    def ComputeSecondStageCost_rule(m):\n",
    "        return sum((m.ca[t] - ca_meas[t]) ** 2 for t in meas_t) \n",
    "    m.SecondStageCost = Expression(rule=ComputeSecondStageCost_rule)\n",
    "\n",
    "    \n",
    "    def total_cost_rule(model):\n",
    "        return model.FirstStageCost + model.SecondStageCost\n",
    "    m.Total_Cost_Objective = Objective(rule=total_cost_rule, sense=minimize)\n",
    "    \n",
    "    disc = TransformationFactory('dae.collocation')\n",
    "    disc.apply_to(m, nfe=20, ncp=4)\n",
    "    \n",
    "    #disc = TransformationFactory('dae.finite_difference')\n",
    "    #disc.apply_to(m, nfe=500, scheme = 'BACKWARD')\n",
    "    \n",
    "    return m"
   ]
  },
  {
   "cell_type": "code",
   "execution_count": 14,
   "metadata": {},
   "outputs": [],
   "source": [
    "# parameters to be estimated\n",
    "theta_names = ['k1', 'n', 'ca0']"
   ]
  },
  {
   "cell_type": "code",
   "execution_count": 15,
   "metadata": {},
   "outputs": [],
   "source": [
    "pest = parmest.Estimator(batch_model, data, theta_names, tee = True)"
   ]
  },
  {
   "cell_type": "code",
   "execution_count": 16,
   "metadata": {},
   "outputs": [
    {
     "name": "stdout",
     "output_type": "stream",
     "text": [
      "Ipopt 3.11.1: max_iter=6000\n",
      "\n",
      "\n",
      "******************************************************************************\n",
      "This program contains Ipopt, a library for large-scale nonlinear optimization.\n",
      " Ipopt is released as open source code under the Eclipse Public License (EPL).\n",
      "         For more information visit http://projects.coin-or.org/Ipopt\n",
      "******************************************************************************\n",
      "\n",
      "NOTE: You are using Ipopt by default with the MUMPS linear solver.\n",
      "      Other linear solvers might be more efficient (see Ipopt documentation).\n",
      "\n",
      "\n",
      "This is Ipopt version 3.11.1, running with linear solver mumps.\n",
      "\n",
      "Number of nonzeros in equality constraint Jacobian...:      808\n",
      "Number of nonzeros in inequality constraint Jacobian.:        0\n",
      "Number of nonzeros in Lagrangian Hessian.............:      243\n",
      "\n",
      "Total number of variables............................:      167\n",
      "                     variables with only lower bounds:        0\n",
      "                variables with lower and upper bounds:       84\n",
      "                     variables with only upper bounds:        0\n",
      "Total number of equality constraints.................:      164\n",
      "Total number of inequality constraints...............:        0\n",
      "        inequality constraints with only lower bounds:        0\n",
      "   inequality constraints with lower and upper bounds:        0\n",
      "        inequality constraints with only upper bounds:        0\n",
      "\n",
      "iter    objective    inf_pr   inf_du lg(mu)  ||d||  lg(rg) alpha_du alpha_pr  ls\n",
      "   0  1.8810000e+00 1.00e+00 1.08e-01  -1.0 0.00e+00    -  0.00e+00 0.00e+00   0\n",
      "   1  1.2436541e+00 4.65e-02 1.89e-01  -1.0 1.12e+00    -  8.74e-01 1.00e+00f  1\n",
      "   2  6.8885805e-01 7.74e-03 8.49e-01  -1.7 1.25e-01    -  8.23e-01 1.00e+00h  1\n",
      "   3  3.9852348e-02 5.45e-03 7.70e-01  -1.7 7.34e-01    -  9.50e-01 1.00e+00f  1\n",
      "   4  2.1527115e-02 4.60e-03 1.62e-01  -1.7 5.81e-01    -  1.00e+00 1.00e+00h  1\n",
      "   5  1.8203322e-02 5.03e-04 1.18e-01  -2.5 1.04e-01    -  8.16e-01 1.00e+00h  1\n",
      "   6  5.9905951e-03 2.32e-03 1.24e-01  -2.5 5.18e-01    -  1.00e+00 1.00e+00h  1\n",
      "   7  4.2239474e-03 6.47e-05 8.74e-03  -2.5 1.27e-01    -  1.00e+00 1.00e+00h  1\n",
      "   8  6.9837627e-04 6.86e-04 1.90e-02  -3.8 3.09e-01    -  8.30e-01 1.00e+00h  1\n",
      "   9  3.4083206e-04 2.63e-05 6.32e-04  -3.8 1.09e-02    -  1.00e+00 1.00e+00h  1\n",
      "iter    objective    inf_pr   inf_du lg(mu)  ||d||  lg(rg) alpha_du alpha_pr  ls\n",
      "  10  3.0870473e-04 8.60e-07 1.08e-04  -5.7 1.06e-02    -  9.62e-01 1.00e+00h  1\n",
      "  11  3.0861635e-04 1.67e-08 6.48e-08  -5.7 9.08e-04    -  1.00e+00 1.00e+00h  1\n",
      "  12  3.0861261e-04 2.66e-10 4.59e-09  -8.6 1.63e-04    -  1.00e+00 1.00e+00h  1\n",
      "\n",
      "Number of Iterations....: 12\n",
      "\n",
      "                                   (scaled)                 (unscaled)\n",
      "Objective...............:   3.0861260638882245e-04    3.0861260638882245e-04\n",
      "Dual infeasibility......:   4.5921867711279480e-09    4.5921867711279480e-09\n",
      "Constraint violation....:   2.6622027499145773e-10    2.6622027499145773e-10\n",
      "Complementarity.........:   3.3795387539584353e-09    3.3795387539584353e-09\n",
      "Overall NLP error.......:   4.5921867711279480e-09    4.5921867711279480e-09\n",
      "\n",
      "\n",
      "Number of objective function evaluations             = 13\n",
      "Number of objective gradient evaluations             = 13\n",
      "Number of equality constraint evaluations            = 13\n",
      "Number of inequality constraint evaluations          = 0\n",
      "Number of equality constraint Jacobian evaluations   = 13\n",
      "Number of inequality constraint Jacobian evaluations = 0\n",
      "Number of Lagrangian Hessian evaluations             = 12\n",
      "Total CPU secs in IPOPT (w/o function evaluations)   =      0.010\n",
      "Total CPU secs in NLP function evaluations           =      0.001\n",
      "\n",
      "EXIT: Optimal Solution Found.\n"
     ]
    }
   ],
   "source": [
    "obj, theta = pest.theta_est()"
   ]
  },
  {
   "cell_type": "code",
   "execution_count": 17,
   "metadata": {},
   "outputs": [
    {
     "data": {
      "text/plain": [
       "{'ca0': 0.8260128525831442, 'k1': 0.05046635330455565, 'n': 1.439807357294396}"
      ]
     },
     "execution_count": 17,
     "metadata": {},
     "output_type": "execute_result"
    }
   ],
   "source": [
    "# Estimated parameters\n",
    "theta"
   ]
  },
  {
   "cell_type": "code",
   "execution_count": 18,
   "metadata": {},
   "outputs": [
    {
     "name": "stdout",
     "output_type": "stream",
     "text": [
      "Ipopt 3.11.1: \n",
      "\n",
      "******************************************************************************\n",
      "This program contains Ipopt, a library for large-scale nonlinear optimization.\n",
      " Ipopt is released as open source code under the Eclipse Public License (EPL).\n",
      "         For more information visit http://projects.coin-or.org/Ipopt\n",
      "******************************************************************************\n",
      "\n",
      "NOTE: You are using Ipopt by default with the MUMPS linear solver.\n",
      "      Other linear solvers might be more efficient (see Ipopt documentation).\n",
      "\n",
      "\n",
      "This is Ipopt version 3.11.1, running with linear solver mumps.\n",
      "\n",
      "Number of nonzeros in equality constraint Jacobian...:      641\n",
      "Number of nonzeros in inequality constraint Jacobian.:        0\n",
      "Number of nonzeros in Lagrangian Hessian.............:       81\n",
      "\n",
      "Total number of variables............................:      161\n",
      "                     variables with only lower bounds:        0\n",
      "                variables with lower and upper bounds:       81\n",
      "                     variables with only upper bounds:        0\n",
      "Total number of equality constraints.................:      161\n",
      "Total number of inequality constraints...............:        0\n",
      "        inequality constraints with only lower bounds:        0\n",
      "   inequality constraints with lower and upper bounds:        0\n",
      "        inequality constraints with only upper bounds:        0\n",
      "\n",
      "iter    objective    inf_pr   inf_du lg(mu)  ||d||  lg(rg) alpha_du alpha_pr  ls\n",
      "   0  1.8810000e+00 3.66e-02 1.18e+00  -1.0 0.00e+00    -  0.00e+00 0.00e+00   0\n",
      "   1  1.5594346e-02 5.58e-03 3.95e+00  -1.0 5.14e-01    -  1.93e-01 1.00e+00f  1\n",
      "   2  3.1322238e-04 1.77e-04 1.30e-01  -1.0 7.22e-02    -  1.00e+00 1.00e+00h  1\n",
      "   3  3.0861321e-04 5.50e-08 1.40e-04  -2.5 1.20e-03    -  1.00e+00 1.00e+00h  1\n",
      "   4  3.0861261e-04 1.46e-15 2.81e-10  -3.8 1.82e-07    -  1.00e+00 1.00e+00h  1\n",
      "\n",
      "Number of Iterations....: 4\n",
      "\n",
      "                                   (scaled)                 (unscaled)\n",
      "Objective...............:   3.0861260620647645e-04    3.0861260620647645e-04\n",
      "Dual infeasibility......:   8.6736173798840355e-18    8.6736173798840355e-18\n",
      "Constraint violation....:   1.4571677198205180e-15    1.4571677198205180e-15\n",
      "Complementarity.........:   0.0000000000000000e+00    0.0000000000000000e+00\n",
      "Overall NLP error.......:   1.4571677198205180e-15    1.4571677198205180e-15\n",
      "\n",
      "\n",
      "Number of objective function evaluations             = 5\n",
      "Number of objective gradient evaluations             = 5\n",
      "Number of equality constraint evaluations            = 5\n",
      "Number of inequality constraint evaluations          = 0\n",
      "Number of equality constraint Jacobian evaluations   = 5\n",
      "Number of inequality constraint Jacobian evaluations = 0\n",
      "Number of Lagrangian Hessian evaluations             = 4\n",
      "Total CPU secs in IPOPT (w/o function evaluations)   =      0.005\n",
      "Total CPU secs in NLP function evaluations           =      0.000\n",
      "\n",
      "EXIT: Optimal Solution Found.\n"
     ]
    },
    {
     "data": {
      "text/plain": [
       "{'Problem': [{'Lower bound': -inf, 'Upper bound': inf, 'Number of objectives': 1, 'Number of constraints': 161, 'Number of variables': 161, 'Sense': 'unknown'}], 'Solver': [{'Status': 'ok', 'Message': 'Ipopt 3.11.1\\\\x3a Optimal Solution Found', 'Termination condition': 'optimal', 'Id': 0, 'Error rc': 0, 'Time': 0.05318903923034668}], 'Solution': [OrderedDict([('number of solutions', 0), ('number of solutions displayed', 0)])]}"
      ]
     },
     "execution_count": 18,
     "metadata": {},
     "output_type": "execute_result"
    }
   ],
   "source": [
    "# Get ca, cb, cc profiles with estimated parameters\n",
    "ms = batch_model(data[0])\n",
    "ms.k1.fix(theta['k1'])\n",
    "ms.n.fix(theta['n'])\n",
    "ms.ca0.fix(theta['ca0'])\n",
    "solver = SolverFactory('ipopt')\n",
    "solver.solve(ms, tee = True)"
   ]
  },
  {
   "cell_type": "code",
   "execution_count": 19,
   "metadata": {},
   "outputs": [
    {
     "data": {
      "text/plain": [
       "<matplotlib.collections.PathCollection at 0x1af188b978>"
      ]
     },
     "execution_count": 19,
     "metadata": {},
     "output_type": "execute_result"
    },
    {
     "data": {
      "image/png": "[encoded data removed]",
      "text/plain": [
       "<Figure size 432x288 with 1 Axes>"
      ]
     },
     "metadata": {
      "needs_background": "light"
     },
     "output_type": "display_data"
    }
   ],
   "source": [
    "fig, ax = plt.subplots()\n",
    "ax.plot(list(ms.time), [ms.ca[t]() for t in ms.time])\n",
    "ax.scatter(data[0]['ca_meas'].keys(), data[0]['ca_meas'].values())"
   ]
  },
  {
   "cell_type": "code",
   "execution_count": null,
   "metadata": {},
   "outputs": [],
   "source": []
  }
 ],
 "metadata": {
  "kernelspec": {
   "display_name": "Python 3",
   "language": "python",
   "name": "python3"
  },
  "language_info": {
   "codemirror_mode": {
    "name": "ipython",
    "version": 3
   },
   "file_extension": ".py",
   "mimetype": "text/x-python",
   "name": "python",
   "nbconvert_exporter": "python",
   "pygments_lexer": "ipython3",
   "version": "3.6.9"
  }
 },
 "nbformat": 4,
 "nbformat_minor": 2
}
