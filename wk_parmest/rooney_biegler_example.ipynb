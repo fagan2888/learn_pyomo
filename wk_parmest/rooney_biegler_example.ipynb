{
 "cells": [
  {
   "cell_type": "code",
   "execution_count": 18,
   "metadata": {},
   "outputs": [],
   "source": [
    "#\n",
    "# https://github.com/Pyomo/pyomo/blob/master/pyomo/contrib/parmest/examples/rooney_biegler/rooney_biegler_parmest.py\n",
    "#"
   ]
  },
  {
   "cell_type": "code",
   "execution_count": 15,
   "metadata": {},
   "outputs": [],
   "source": [
    "import pandas as pd\n",
    "import pyomo.environ as pyo\n",
    "import pyomo.contrib.parmest.parmest as parmest\n",
    "import numpy as np\n",
    "from itertools import product"
   ]
  },
  {
   "cell_type": "code",
   "execution_count": 2,
   "metadata": {},
   "outputs": [],
   "source": [
    "def rooney_biegler_model(data):\n",
    "    \n",
    "    model = pyo.ConcreteModel()\n",
    "\n",
    "    model.asymptote = pyo.Var(initialize = 15)\n",
    "    model.rate_constant = pyo.Var(initialize = 0.5)\n",
    "    \n",
    "    def response_rule(m, h):\n",
    "        expr = m.asymptote * (1 - pyo.exp(-m.rate_constant * h))\n",
    "        return expr\n",
    "    model.response_function = pyo.Expression(data.hour, rule = response_rule)\n",
    "    \n",
    "    def SSE_rule(m):\n",
    "        return sum((data.y[i] - m.response_function[data.hour[i]])**2 for i in data.index)\n",
    "    model.SSE = pyo.Objective(rule = SSE_rule, sense=pyo.minimize)\n",
    "    \n",
    "    return model"
   ]
  },
  {
   "cell_type": "code",
   "execution_count": 3,
   "metadata": {},
   "outputs": [
    {
     "data": {
      "text/html": [
       "<div>\n",
       "<style scoped>\n",
       "    .dataframe tbody tr th:only-of-type {\n",
       "        vertical-align: middle;\n",
       "    }\n",
       "\n",
       "    .dataframe tbody tr th {\n",
       "        vertical-align: top;\n",
       "    }\n",
       "\n",
       "    .dataframe thead th {\n",
       "        text-align: right;\n",
       "    }\n",
       "</style>\n",
       "<table border=\"1\" class=\"dataframe\">\n",
       "  <thead>\n",
       "    <tr style=\"text-align: right;\">\n",
       "      <th></th>\n",
       "      <th>hour</th>\n",
       "      <th>y</th>\n",
       "    </tr>\n",
       "  </thead>\n",
       "  <tbody>\n",
       "    <tr>\n",
       "      <td>0</td>\n",
       "      <td>1</td>\n",
       "      <td>8.3</td>\n",
       "    </tr>\n",
       "    <tr>\n",
       "      <td>1</td>\n",
       "      <td>2</td>\n",
       "      <td>10.3</td>\n",
       "    </tr>\n",
       "    <tr>\n",
       "      <td>2</td>\n",
       "      <td>3</td>\n",
       "      <td>19.0</td>\n",
       "    </tr>\n",
       "    <tr>\n",
       "      <td>3</td>\n",
       "      <td>4</td>\n",
       "      <td>16.0</td>\n",
       "    </tr>\n",
       "    <tr>\n",
       "      <td>4</td>\n",
       "      <td>5</td>\n",
       "      <td>15.6</td>\n",
       "    </tr>\n",
       "    <tr>\n",
       "      <td>5</td>\n",
       "      <td>6</td>\n",
       "      <td>19.8</td>\n",
       "    </tr>\n",
       "  </tbody>\n",
       "</table>\n",
       "</div>"
      ],
      "text/plain": [
       "   hour     y\n",
       "0     1   8.3\n",
       "1     2  10.3\n",
       "2     3  19.0\n",
       "3     4  16.0\n",
       "4     5  15.6\n",
       "5     6  19.8"
      ]
     },
     "execution_count": 3,
     "metadata": {},
     "output_type": "execute_result"
    }
   ],
   "source": [
    "data = pd.DataFrame(data=[[1,8.3],[2,10.3],[3,19.0],[4,16.0],[5,15.6],[6,19.8]],\n",
    "                        columns=['hour', 'y'])\n",
    "data"
   ]
  },
  {
   "cell_type": "code",
   "execution_count": 5,
   "metadata": {},
   "outputs": [],
   "source": [
    "# Vars to estimate\n",
    "theta_names = ['asymptote', 'rate_constant']"
   ]
  },
  {
   "cell_type": "code",
   "execution_count": 6,
   "metadata": {},
   "outputs": [],
   "source": [
    "# Sum of squared error function\n",
    "def SSE(model, data):  \n",
    "    expr = sum((data.y[i] - model.response_function[data.hour[i]])**2 for i in data.index)\n",
    "    return expr"
   ]
  },
  {
   "cell_type": "code",
   "execution_count": 7,
   "metadata": {},
   "outputs": [],
   "source": [
    "pest = parmest.Estimator(rooney_biegler_model, data, theta_names, SSE)"
   ]
  },
  {
   "cell_type": "code",
   "execution_count": 8,
   "metadata": {},
   "outputs": [],
   "source": [
    "obj, theta = pest.theta_est()"
   ]
  },
  {
   "cell_type": "code",
   "execution_count": 9,
   "metadata": {},
   "outputs": [
    {
     "name": "stdout",
     "output_type": "stream",
     "text": [
      "4.467546433178051\n",
      "{'asymptote': 19.21899070090546, 'rate_constant': 0.531177179856159}\n"
     ]
    }
   ],
   "source": [
    "print(obj)\n",
    "print(theta)"
   ]
  },
  {
   "cell_type": "code",
   "execution_count": 10,
   "metadata": {},
   "outputs": [
    {
     "name": "stdout",
     "output_type": "stream",
     "text": [
      "   asymptote  rate_constant\n",
      "0  19.449178       0.537338\n",
      "1  21.118212       0.454165\n",
      "2  19.865495       0.411219\n",
      "3  22.417262       0.302698\n",
      "4  17.683883       0.719524\n"
     ]
    }
   ],
   "source": [
    "bootstrap_theta = pest.theta_est_bootstrap(50, seed=4581)\n",
    "print(bootstrap_theta.head())"
   ]
  },
  {
   "cell_type": "code",
   "execution_count": 11,
   "metadata": {},
   "outputs": [
    {
     "data": {
      "image/png": "[encoded data removed]",
      "text/plain": [
       "<Figure size 360x360 with 6 Axes>"
      ]
     },
     "metadata": {
      "needs_background": "light"
     },
     "output_type": "display_data"
    }
   ],
   "source": [
    "parmest.pairwise_plot(bootstrap_theta, theta, 0.8, ['MVN', 'KDE', 'Rect'])"
   ]
  },
  {
   "cell_type": "code",
   "execution_count": 16,
   "metadata": {},
   "outputs": [
    {
     "name": "stdout",
     "output_type": "stream",
     "text": [
      "   asymptote  rate_constant         obj\n",
      "0         10            0.0  237.896667\n",
      "1         10            0.1  154.406436\n",
      "2         10            0.2  110.231084\n",
      "3         10            0.3   85.085567\n",
      "4         10            0.4   69.931834\n"
     ]
    }
   ],
   "source": [
    "asym = np.arange(10, 30, 2)\n",
    "rate = np.arange(0, 1.5, 0.1)\n",
    "theta_vals = pd.DataFrame(list(product(asym, rate)), columns=theta_names)\n",
    "\n",
    "obj_at_theta = pest.objective_at_theta(theta_vals)\n",
    "print(obj_at_theta.head())"
   ]
  },
  {
   "cell_type": "code",
   "execution_count": 17,
   "metadata": {},
   "outputs": [
    {
     "name": "stdout",
     "output_type": "stream",
     "text": [
      "   asymptote  rate_constant         obj    0.8   0.85    0.9   0.95\n",
      "0         10            0.0  237.896667  False  False  False  False\n",
      "1         10            0.1  154.406436  False  False  False  False\n",
      "2         10            0.2  110.231084  False  False  False  False\n",
      "3         10            0.3   85.085567  False  False  False  False\n",
      "4         10            0.4   69.931834  False  False  False  False\n"
     ]
    },
    {
     "data": {
      "image/png": "[encoded data removed]",
      "text/plain": [
       "<Figure size 360x360 with 6 Axes>"
      ]
     },
     "metadata": {
      "needs_background": "light"
     },
     "output_type": "display_data"
    }
   ],
   "source": [
    "LR = pest.likelihood_ratio_test(obj_at_theta, obj, [0.8, 0.85, 0.9, 0.95])\n",
    "print(LR.head())\n",
    "\n",
    "parmest.pairwise_plot(LR, theta, 0.8)"
   ]
  },
  {
   "cell_type": "code",
   "execution_count": null,
   "metadata": {},
   "outputs": [],
   "source": []
  }
 ],
 "metadata": {
  "kernelspec": {
   "display_name": "Python 3",
   "language": "python",
   "name": "python3"
  },
  "language_info": {
   "codemirror_mode": {
    "name": "ipython",
    "version": 3
   },
   "file_extension": ".py",
   "mimetype": "text/x-python",
   "name": "python",
   "nbconvert_exporter": "python",
   "pygments_lexer": "ipython3",
   "version": "3.6.9"
  }
 },
 "nbformat": 4,
 "nbformat_minor": 2
}
