{
 "cells": [
  {
   "cell_type": "code",
   "execution_count": 24,
   "metadata": {},
   "outputs": [],
   "source": [
    "# Working through the example at\n",
    "# https://github.com/Pyomo/pyomo/blob/master/pyomo/contrib/pynumero/examples/sensitivity.py\n",
    "#\n",
    "import pyomo.environ as pyo\n",
    "from pyomo.contrib.pynumero.interfaces.pyomo_nlp import PyomoNLP\n",
    "from pyomo.contrib.pynumero.sparse import BlockSymMatrix, BlockMatrix, BlockVector\n",
    "from scipy.sparse import identity\n",
    "from scipy.sparse.linalg import spsolve\n",
    "import numpy as np"
   ]
  },
  {
   "cell_type": "code",
   "execution_count": 25,
   "metadata": {},
   "outputs": [
    {
     "name": "stdout",
     "output_type": "stream",
     "text": [
      "Ipopt 3.11.1: \n",
      "\n",
      "******************************************************************************\n",
      "This program contains Ipopt, a library for large-scale nonlinear optimization.\n",
      " Ipopt is released as open source code under the Eclipse Public License (EPL).\n",
      "         For more information visit http://projects.coin-or.org/Ipopt\n",
      "******************************************************************************\n",
      "\n",
      "NOTE: You are using Ipopt by default with the MUMPS linear solver.\n",
      "      Other linear solvers might be more efficient (see Ipopt documentation).\n",
      "\n",
      "\n",
      "This is Ipopt version 3.11.1, running with linear solver mumps.\n",
      "\n",
      "Number of nonzeros in equality constraint Jacobian...:       10\n",
      "Number of nonzeros in inequality constraint Jacobian.:        0\n",
      "Number of nonzeros in Lagrangian Hessian.............:        4\n",
      "\n",
      "Total number of variables............................:        5\n",
      "                     variables with only lower bounds:        0\n",
      "                variables with lower and upper bounds:        0\n",
      "                     variables with only upper bounds:        0\n",
      "Total number of equality constraints.................:        4\n",
      "Total number of inequality constraints...............:        0\n",
      "        inequality constraints with only lower bounds:        0\n",
      "   inequality constraints with lower and upper bounds:        0\n",
      "        inequality constraints with only upper bounds:        0\n",
      "\n",
      "iter    objective    inf_pr   inf_du lg(mu)  ||d||  lg(rg) alpha_du alpha_pr  ls\n",
      "   0  4.5000000e-02 4.50e+00 1.86e-02  -1.0 0.00e+00    -  0.00e+00 0.00e+00   0\n",
      "   1  7.0462014e-01 3.70e-01 6.50e-01  -1.0 4.50e+00    -  1.00e+00 1.00e+00h  1\n",
      "   2  4.7704082e-01 8.88e-16 2.35e-02  -1.7 2.38e-01    -  1.00e+00 1.00e+00h  1\n",
      "   3  4.7704082e-01 8.88e-16 2.22e-16  -3.8 1.24e-16    -  1.00e+00 1.00e+00   0\n",
      "\n",
      "Number of Iterations....: 3\n",
      "\n",
      "                                   (scaled)                 (unscaled)\n",
      "Objective...............:   4.7704081632653067e-01    4.7704081632653067e-01\n",
      "Dual infeasibility......:   2.2204460492503131e-16    2.2204460492503131e-16\n",
      "Constraint violation....:   8.8817841970012523e-16    8.8817841970012523e-16\n",
      "Complementarity.........:   0.0000000000000000e+00    0.0000000000000000e+00\n",
      "Overall NLP error.......:   8.8817841970012523e-16    8.8817841970012523e-16\n",
      "\n",
      "\n",
      "Number of objective function evaluations             = 4\n",
      "Number of objective gradient evaluations             = 4\n",
      "Number of equality constraint evaluations            = 4\n",
      "Number of inequality constraint evaluations          = 0\n",
      "Number of equality constraint Jacobian evaluations   = 4\n",
      "Number of inequality constraint Jacobian evaluations = 0\n",
      "Number of Lagrangian Hessian evaluations             = 3\n",
      "Total CPU secs in IPOPT (w/o function evaluations)   =      0.002\n",
      "Total CPU secs in NLP function evaluations           =      0.000\n",
      "\n",
      "EXIT: Optimal Solution Found.\n"
     ]
    }
   ],
   "source": [
    "def create_model(eta1, eta2):\n",
    "    model = pyo.ConcreteModel()\n",
    "    # variables\n",
    "    model.x1 = pyo.Var(initialize=0.15)\n",
    "    model.x2 = pyo.Var(initialize=0.15)\n",
    "    model.x3 = pyo.Var(initialize=0.0)\n",
    "    # parameters\n",
    "    model.eta1 = pyo.Var()\n",
    "    model.eta2 = pyo.Var()\n",
    "\n",
    "    model.nominal_eta1 = pyo.Param(initialize=eta1, mutable=True)\n",
    "    model.nominal_eta2 = pyo.Param(initialize=eta2, mutable=True)\n",
    "\n",
    "    # constraints + objective\n",
    "    model.const1 = pyo.Constraint(expr=6*model.x1+3*model.x2+2*model.x3 - model.eta1 == 0)\n",
    "    model.const2 = pyo.Constraint(expr=model.eta2*model.x1+model.x2-model.x3-1 == 0)\n",
    "    model.cost = pyo.Objective(expr=model.x1**2 + model.x2**2 + model.x3**2)\n",
    "    model.consteta1 = pyo.Constraint(expr=model.eta1 == model.nominal_eta1)\n",
    "    model.consteta2 = pyo.Constraint(expr=model.eta2 == model.nominal_eta2)\n",
    "\n",
    "    return model\n",
    "\n",
    "def compute_init_lam(nlp, x=None, lam_max=1e3):\n",
    "    if x is None:\n",
    "        x = nlp.init_primals()\n",
    "    else:\n",
    "        assert x.size == nlp.n_primals()\n",
    "    nlp.set_primals(x)\n",
    "\n",
    "    assert nlp.n_ineq_constraints() == 0, \"only supported for equality constrained nlps for now\"\n",
    "\n",
    "    nx = nlp.n_primals()\n",
    "    nc = nlp.n_constraints()\n",
    "\n",
    "    # create Jacobian\n",
    "    jac = nlp.evaluate_jacobian()\n",
    "\n",
    "    # create gradient of objective\n",
    "    df = nlp.evaluate_grad_objective()\n",
    "\n",
    "    # create KKT system\n",
    "    kkt = BlockSymMatrix(2)\n",
    "    kkt[0, 0] = identity(nx)\n",
    "    kkt[1, 0] = jac\n",
    "\n",
    "    zeros = np.zeros(nc)\n",
    "    rhs = BlockVector([-df, zeros])\n",
    "\n",
    "    flat_kkt = kkt.tocoo().tocsc()\n",
    "    flat_rhs = rhs.flatten()\n",
    "\n",
    "    sol = spsolve(flat_kkt, flat_rhs)\n",
    "    return sol[nlp.n_primals() : nlp.n_primals() + nlp.n_constraints()]\n",
    "\n",
    "#################################################################\n",
    "m = create_model(4.5, 1.0)\n",
    "opt = pyo.SolverFactory('ipopt')\n",
    "results = opt.solve(m, tee=True)\n",
    "\n",
    "#################################################################"
   ]
  },
  {
   "cell_type": "code",
   "execution_count": 26,
   "metadata": {},
   "outputs": [
    {
     "name": "stdout",
     "output_type": "stream",
     "text": [
      "Unperturbed NLP solution\n",
      "[ 0.57653061  1.          0.37755102 -0.04591837  4.5       ]\n"
     ]
    }
   ],
   "source": [
    "# NLP solution for unperturbed problem\n",
    "nlp = PyomoNLP(m)\n",
    "x_unpert = nlp.init_primals()\n",
    "\n",
    "print('Unperturbed NLP solution')\n",
    "print(x_unpert)"
   ]
  },
  {
   "cell_type": "code",
   "execution_count": 27,
   "metadata": {},
   "outputs": [
    {
     "name": "stdout",
     "output_type": "stream",
     "text": [
      "['x1', 'eta2', 'x2', 'x3', 'eta1']\n",
      "ds:\n",
      " [[0. 0.]\n",
      " [0. 1.]\n",
      " [0. 0.]\n",
      " [0. 0.]\n",
      " [1. 0.]\n",
      " [0. 0.]\n",
      " [0. 0.]\n",
      " [0. 0.]\n",
      " [0. 0.]]\n"
     ]
    }
   ],
   "source": [
    "nlp = PyomoNLP(m)\n",
    "x = nlp.init_primals()\n",
    "y = compute_init_lam(nlp, x=x)\n",
    "nlp.set_primals(x)\n",
    "nlp.set_duals(y)\n",
    "\n",
    "J = nlp.evaluate_jacobian()\n",
    "H = nlp.evaluate_hessian_lag()\n",
    "\n",
    "M = BlockSymMatrix(2)\n",
    "M[0, 0] = H\n",
    "M[1, 0] = J\n",
    "\n",
    "Np = BlockMatrix(2, 1)\n",
    "Np[0, 0] = nlp.extract_submatrix_hessian_lag(pyomo_variables_rows=nlp.get_pyomo_variables(), pyomo_variables_cols=[m.eta1, m.eta2])\n",
    "Np[1, 0] = nlp.extract_submatrix_jacobian(pyomo_variables=[m.eta1, m.eta2], pyomo_constraints=nlp.get_pyomo_constraints())\n",
    "\n",
    "ds = spsolve(M.tocsc(), Np.tocsc())\n",
    "print(nlp.variable_names())\n",
    "print(\"ds:\\n\", ds.todense())"
   ]
  },
  {
   "cell_type": "code",
   "execution_count": 28,
   "metadata": {},
   "outputs": [
    {
     "name": "stdout",
     "output_type": "stream",
     "text": [
      "dp: [-0.05  0.05]\n",
      "dx: [ 0.    0.05  0.    0.   -0.05]\n",
      "unperturbed NLP x:\n",
      " [ 0.57653061  1.          0.37755102 -0.04591837  4.5       ]\n",
      "sensitivity based x:\n",
      " [ 0.57653061  1.05        0.37755102 -0.04591837  4.45      ]\n"
     ]
    }
   ],
   "source": [
    "#################################################################\n",
    "\n",
    "p0 = np.array([pyo.value(m.nominal_eta1), pyo.value(m.nominal_eta2)])\n",
    "p = np.array([4.45, 1.05])\n",
    "dp = p - p0\n",
    "dx = ds.dot(dp)[0:nlp.n_primals()]\n",
    "new_x = x + dx\n",
    "print(\"dp:\", dp)\n",
    "print(\"dx:\", dx)\n",
    "print(\"unperturbed NLP x:\\n\", x_unpert)\n",
    "print(\"sensitivity based x:\\n\", new_x)"
   ]
  },
  {
   "cell_type": "code",
   "execution_count": 29,
   "metadata": {},
   "outputs": [
    {
     "name": "stdout",
     "output_type": "stream",
     "text": [
      "Ipopt 3.11.1: \n",
      "\n",
      "******************************************************************************\n",
      "This program contains Ipopt, a library for large-scale nonlinear optimization.\n",
      " Ipopt is released as open source code under the Eclipse Public License (EPL).\n",
      "         For more information visit http://projects.coin-or.org/Ipopt\n",
      "******************************************************************************\n",
      "\n",
      "NOTE: You are using Ipopt by default with the MUMPS linear solver.\n",
      "      Other linear solvers might be more efficient (see Ipopt documentation).\n",
      "\n",
      "\n",
      "This is Ipopt version 3.11.1, running with linear solver mumps.\n",
      "\n",
      "Number of nonzeros in equality constraint Jacobian...:       10\n",
      "Number of nonzeros in inequality constraint Jacobian.:        0\n",
      "Number of nonzeros in Lagrangian Hessian.............:        4\n",
      "\n",
      "Total number of variables............................:        5\n",
      "                     variables with only lower bounds:        0\n",
      "                variables with lower and upper bounds:        0\n",
      "                     variables with only upper bounds:        0\n",
      "Total number of equality constraints.................:        4\n",
      "Total number of inequality constraints...............:        0\n",
      "        inequality constraints with only lower bounds:        0\n",
      "   inequality constraints with lower and upper bounds:        0\n",
      "        inequality constraints with only upper bounds:        0\n",
      "\n",
      "iter    objective    inf_pr   inf_du lg(mu)  ||d||  lg(rg) alpha_du alpha_pr  ls\n",
      "   0  4.5000000e-02 4.45e+00 1.86e-02  -1.0 0.00e+00    -  0.00e+00 0.00e+00   0\n",
      "   1  6.9064653e-01 3.83e-01 6.76e-01  -1.0 4.45e+00    -  1.00e+00 1.00e+00h  1\n",
      "   2  4.6050952e-01 0.00e+00 2.42e-02  -1.7 2.44e-01    -  1.00e+00 1.00e+00h  1\n",
      "   3  4.6050952e-01 0.00e+00 1.11e-16  -3.8 3.69e-17    -  1.00e+00 1.00e+00   0\n",
      "\n",
      "Number of Iterations....: 3\n",
      "\n",
      "                                   (scaled)                 (unscaled)\n",
      "Objective...............:   4.6050952067454998e-01    4.6050952067454998e-01\n",
      "Dual infeasibility......:   1.1102230246251565e-16    1.1102230246251565e-16\n",
      "Constraint violation....:   0.0000000000000000e+00    0.0000000000000000e+00\n",
      "Complementarity.........:   0.0000000000000000e+00    0.0000000000000000e+00\n",
      "Overall NLP error.......:   1.1102230246251565e-16    1.1102230246251565e-16\n",
      "\n",
      "\n",
      "Number of objective function evaluations             = 4\n",
      "Number of objective gradient evaluations             = 4\n",
      "Number of equality constraint evaluations            = 4\n",
      "Number of inequality constraint evaluations          = 0\n",
      "Number of equality constraint Jacobian evaluations   = 4\n",
      "Number of inequality constraint Jacobian evaluations = 0\n",
      "Number of Lagrangian Hessian evaluations             = 3\n",
      "Total CPU secs in IPOPT (w/o function evaluations)   =      0.002\n",
      "Total CPU secs in NLP function evaluations           =      0.000\n",
      "\n",
      "EXIT: Optimal Solution Found.\n"
     ]
    }
   ],
   "source": [
    "# somthing doesn't look right above since there is no change in x from unperturbed solution (only p changes)\n",
    "\n",
    "#################################################################\n",
    "m_pert = create_model(4.45, 1.05)\n",
    "opt = pyo.SolverFactory('ipopt')\n",
    "results = opt.solve(m_pert, tee=True)"
   ]
  },
  {
   "cell_type": "code",
   "execution_count": 30,
   "metadata": {},
   "outputs": [
    {
     "name": "stdout",
     "output_type": "stream",
     "text": [
      "perturbed NLP x:\n",
      " [ 0.57101258  1.05        0.36495961 -0.03547717  4.45      ]\n",
      "sensitivity based x:\n",
      " [ 0.57653061  1.05        0.37755102 -0.04591837  4.45      ]\n"
     ]
    }
   ],
   "source": [
    "nlp = PyomoNLP(m_pert)\n",
    "x_pert = nlp.init_primals()\n",
    "print(\"perturbed NLP x:\\n\", x_pert)\n",
    "print(\"sensitivity based x:\\n\", new_x)"
   ]
  },
  {
   "cell_type": "code",
   "execution_count": 31,
   "metadata": {},
   "outputs": [],
   "source": [
    "# There seems to be a discrepancy between sensitivity based calculation and solving the perturbed NLP \n",
    "# based on sensitivity.py code. Below are 2 alternative modifications proposed that seem to fix the issue:\n",
    "# option 1 - use submatrix of M, Np that has only variables x1, x2, x3 and constraints const1, const2. \n",
    "#            Also solve for -inv(M)*Np instead of inv(M)*Np\n",
    "# option 2 - keep the same N matrix, but have Np as matrix of zeros and ones with identity for rows \n",
    "#            corresponding to paramters"
   ]
  },
  {
   "cell_type": "code",
   "execution_count": 32,
   "metadata": {},
   "outputs": [
    {
     "name": "stdout",
     "output_type": "stream",
     "text": [
      "['x1', 'eta2', 'x2', 'x3', 'eta1']\n",
      "ds:\n",
      " [[ 0.1122449   0.00437318]\n",
      " [ 0.02040816 -0.23760933]\n",
      " [ 0.13265306  0.34329446]\n",
      " [-0.06122449 -0.04227405]\n",
      " [ 0.14285714  0.60204082]]\n"
     ]
    }
   ],
   "source": [
    "# Code Modification: Option 1 - Use a submatrix of M without \n",
    "# the eta1, eta2 variables and consteta1, consteta2 constraints ---------------------\n",
    "\n",
    "\n",
    "nlp = PyomoNLP(m)\n",
    "x = nlp.init_primals()\n",
    "y = compute_init_lam(nlp, x=x)\n",
    "nlp.set_primals(x)\n",
    "nlp.set_duals(y)\n",
    "\n",
    "#J = nlp.evaluate_jacobian()\n",
    "J = nlp.extract_submatrix_jacobian(pyomo_variables=[m.x1, m.x2, m.x3], pyomo_constraints=[m.const1, m.const2])\n",
    "\n",
    "#H = nlp.evaluate_hessian_lag()\n",
    "H = nlp.extract_submatrix_hessian_lag(pyomo_variables_rows=[m.x1, m.x2, m.x3], pyomo_variables_cols=[m.x1, m.x2, m.x3])\n",
    "\n",
    "M = BlockSymMatrix(2)\n",
    "M[0, 0] = H\n",
    "M[1, 0] = J\n",
    "\n",
    "Np = BlockMatrix(2, 1)\n",
    "Np[0, 0] = nlp.extract_submatrix_hessian_lag(pyomo_variables_rows=[m.x1, m.x2, m.x3], pyomo_variables_cols=[m.eta1, m.eta2])\n",
    "Np[1, 0] = nlp.extract_submatrix_jacobian(pyomo_variables=[m.eta1, m.eta2], pyomo_constraints=[m.const1, m.const2])\n",
    "\n",
    "ds = spsolve(M.tocsc(), -Np.tocsc())\n",
    "print(nlp.variable_names())\n",
    "print(\"ds:\\n\", ds.todense())"
   ]
  },
  {
   "cell_type": "code",
   "execution_count": 33,
   "metadata": {},
   "outputs": [
    {
     "name": "stdout",
     "output_type": "stream",
     "text": [
      "dp: [-0.05  0.05]\n",
      "dx: [-0.00539359 -0.01290087  0.01053207]\n",
      "perturbed NLP x:\n",
      " [0.5710125845086471, 0.36495961309599173, -0.03547717316992889]\n",
      "sensitivity based x:\n",
      " [ 0.57113703  0.36465015 -0.0353863 ]\n"
     ]
    }
   ],
   "source": [
    "#################################################################\n",
    "# x1, x2, x3 are variables 0, 2, 3 in nlp\n",
    "p0 = np.array([pyo.value(m.nominal_eta1), pyo.value(m.nominal_eta2)])\n",
    "p = np.array([4.45, 1.05])\n",
    "dp = p - p0\n",
    "dx = ds.dot(dp)[0:3]\n",
    "new_x = [x[i] for i in [0, 2, 3]] + dx\n",
    "print(\"dp:\", dp)\n",
    "print(\"dx:\", dx)\n",
    "print(\"perturbed NLP x:\\n\", [x_pert[i] for i in [0, 2, 3]])\n",
    "print(\"sensitivity based x:\\n\", new_x)"
   ]
  },
  {
   "cell_type": "code",
   "execution_count": 35,
   "metadata": {},
   "outputs": [
    {
     "name": "stdout",
     "output_type": "stream",
     "text": [
      "['x1', 'eta2', 'x2', 'x3', 'eta1']\n",
      "ds:\n",
      " [[ 0.1122449   0.00437318]\n",
      " [ 0.          1.        ]\n",
      " [ 0.02040816 -0.23760933]\n",
      " [ 0.13265306  0.34329446]\n",
      " [ 1.         -0.        ]\n",
      " [ 0.14285714  0.60204082]\n",
      " [-0.06122449 -0.04227405]\n",
      " [-0.06122449 -0.04227405]\n",
      " [-0.04227405 -0.34553311]]\n"
     ]
    }
   ],
   "source": [
    "#-------Code Modification: Option 2 - Modify Np to be matrix of zeros and ones ---------------------\n",
    "\n",
    "\n",
    "nlp = PyomoNLP(m)\n",
    "x = nlp.init_primals()\n",
    "y = compute_init_lam(nlp, x=x)\n",
    "nlp.set_primals(x)\n",
    "nlp.set_duals(y)\n",
    "\n",
    "J = nlp.evaluate_jacobian()\n",
    "H = nlp.evaluate_hessian_lag()\n",
    "\n",
    "M = BlockSymMatrix(2)\n",
    "M[0, 0] = H\n",
    "M[1, 0] = J\n",
    "\n",
    "sens_vars = [m.eta1, m.eta2]\n",
    "nsens  = len(sens_vars)\n",
    "nr = M.shape[0]\n",
    "\n",
    "sens_cons = ['consteta1', 'consteta2']\n",
    "clist = nlp.constraint_names()\n",
    "nc = len(clist)\n",
    "Np = np.zeros((nr, nsens))\n",
    "for i, cons in enumerate(sens_cons):\n",
    "    Np[nr - nc + clist.index(cons), i] = 1\n",
    "\n",
    "ds = spsolve(M.tocsc(), Np)\n",
    "print(nlp.variable_names())\n",
    "print(\"ds:\\n\", ds)"
   ]
  },
  {
   "cell_type": "code",
   "execution_count": 36,
   "metadata": {},
   "outputs": [
    {
     "name": "stdout",
     "output_type": "stream",
     "text": [
      "dp: [-0.05  0.05]\n",
      "dx: [-0.00539359  0.05       -0.01290087  0.01053207 -0.05      ]\n",
      "new_x based on solving NLP at perturbed parameters\n",
      "[ 0.57101258  1.05        0.36495961 -0.03547717  4.45      ]\n",
      "new_x based on sensitivity calculation\n",
      "[ 0.57113703  1.05        0.36465015 -0.0353863   4.45      ]\n"
     ]
    }
   ],
   "source": [
    "#################################################################\n",
    "\n",
    "p0 = np.array([pyo.value(m.nominal_eta1), pyo.value(m.nominal_eta2)])\n",
    "p = np.array([4.45, 1.05])\n",
    "dp = p - p0\n",
    "dx = ds.dot(dp)[0:nlp.n_primals()]\n",
    "new_x = x + dx\n",
    "\n",
    "print(\"dp:\", dp)\n",
    "print(\"dx:\", dx)\n",
    "print('new_x based on solving NLP at perturbed parameters')\n",
    "print(x_pert)\n",
    "print('new_x based on sensitivity calculation')\n",
    "print(new_x)"
   ]
  },
  {
   "cell_type": "code",
   "execution_count": null,
   "metadata": {},
   "outputs": [],
   "source": [
    "# the sensitivity based x is now closer to the perturbed NLP x and results from option 1 and option 2 match"
   ]
  }
 ],
 "metadata": {
  "kernelspec": {
   "display_name": "Python 3",
   "language": "python",
   "name": "python3"
  },
  "language_info": {
   "codemirror_mode": {
    "name": "ipython",
    "version": 3
   },
   "file_extension": ".py",
   "mimetype": "text/x-python",
   "name": "python",
   "nbconvert_exporter": "python",
   "pygments_lexer": "ipython3",
   "version": "3.6.9"
  }
 },
 "nbformat": 4,
 "nbformat_minor": 2
}
