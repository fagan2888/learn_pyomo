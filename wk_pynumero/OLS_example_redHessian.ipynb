{
 "cells": [
  {
   "cell_type": "code",
   "execution_count": 1,
   "metadata": {},
   "outputs": [],
   "source": [
    "#\n",
    "# Exmaple of using pynumero to compute hessian and reduced hessian for a OLS example\n",
    "#"
   ]
  },
  {
   "cell_type": "code",
   "execution_count": 2,
   "metadata": {},
   "outputs": [],
   "source": [
    "# import modules\n",
    "import pyomo.environ as pyo\n",
    "from pyomo.contrib.pynumero.interfaces.pyomo_nlp import PyomoNLP\n",
    "from pyomo.contrib.pynumero.sparse import BlockSymMatrix, BlockMatrix, BlockVector\n",
    "from scipy.sparse import identity\n",
    "from scipy.sparse.linalg import spsolve\n",
    "import numpy as np\n",
    "import matplotlib.pyplot as plt"
   ]
  },
  {
   "cell_type": "code",
   "execution_count": 9,
   "metadata": {},
   "outputs": [],
   "source": [
    "def getvarorder(nlp, parm_vars, non_parm_vars):\n",
    "    # ensure that variable order from original hessian is preserved\n",
    "    varnames = [x.name for x in nlp.get_pyomo_variables()]\n",
    "    print(varnames)\n",
    "\n",
    "    curr_order = {k.name:i for (i,k) in enumerate(non_parm_vars)}\n",
    "    parm_order = {k.name:(i + len(curr_order)) for (i,k) in enumerate(parm_vars)}\n",
    "    curr_order.update(parm_order)\n",
    "    print(curr_order)\n",
    "\n",
    "    zorder = [curr_order[k] for k in varnames]\n",
    "    print('zorder:', zorder)\n",
    "    \n",
    "    return zorder\n",
    "\n",
    "def getZ(nlp, parm_vars):\n",
    "    # Get the Z matrix to compute reduced hessian\n",
    "    non_parm_vars = [x for x in nlp.get_pyomo_variables() if x not in parm_vars]\n",
    "    \n",
    "    Ji = nlp.extract_submatrix_jacobian(pyomo_variables = parm_vars, pyomo_constraints=nlp.get_pyomo_constraints())\n",
    "    Jd = nlp.extract_submatrix_jacobian(pyomo_variables = non_parm_vars, pyomo_constraints=nlp.get_pyomo_constraints())\n",
    "    print(\"Ji\")\n",
    "    print(Ji.todense())\n",
    "    print(\"Jd\")\n",
    "    print(Jd.todense())\n",
    "\n",
    "    Zd = spsolve(Jd.tocsc(), Ji.tocsc())\n",
    "    Z = BlockMatrix(2, 1)\n",
    "    Z[0, 0] = Zd\n",
    "    Z[1, 0] = identity(len(parm_vars))\n",
    "    print(\"Z\")\n",
    "    print(Z.todense())\n",
    "    \n",
    "    # reorder variables to the order in hessian\n",
    "    zorder = getvarorder(nlp, parm_vars, non_parm_vars)\n",
    "    Zorder = Z.tocsc()[zorder, :].todense()\n",
    "    print(\"Zorder\")\n",
    "    print(Zorder)\n",
    "    \n",
    "    return Zorder\n",
    "\n",
    "def getHred(nlp, parm_vars):\n",
    "    # compute reduced hessian\n",
    "    H = nlp.evaluate_hessian_lag()\n",
    "    if nlp.n_primals() == len(parm_vars):\n",
    "        Hred = H.todense()\n",
    "    else:\n",
    "        Zorder = getZ(nlp, parm_vars)\n",
    "        Hred = Zorder.T.dot(H.dot(Zorder))\n",
    "    return Hred"
   ]
  },
  {
   "cell_type": "code",
   "execution_count": 3,
   "metadata": {},
   "outputs": [
    {
     "name": "stdout",
     "output_type": "stream",
     "text": [
      "X:\n",
      " [[1. 1.]\n",
      " [1. 2.]\n",
      " [1. 3.]\n",
      " [1. 4.]\n",
      " [1. 5.]]\n"
     ]
    }
   ],
   "source": [
    "# generate simulated data for OLS\n",
    "# X matrix\n",
    "x0 = np.ones(5)\n",
    "x1 = np.array([1, 2, 3, 4, 5])\n",
    "X = np.vstack([x0, x1]).T\n",
    "print(\"X:\\n\", X)\n",
    "\n",
    "# beta actual\n",
    "beta = np.array([10.0, 5.0])\n",
    "\n",
    "# y\n",
    "yact = X.dot(beta)\n",
    "\n",
    "\n",
    "# add random normal noise with variance 5\n",
    "y = yact + np.random.randn(5) * 5"
   ]
  },
  {
   "cell_type": "code",
   "execution_count": 4,
   "metadata": {},
   "outputs": [
    {
     "data": {
      "image/png": "[encoded data removed]",
      "text/plain": [
       "<Figure size 432x288 with 1 Axes>"
      ]
     },
     "metadata": {
      "needs_background": "light"
     },
     "output_type": "display_data"
    }
   ],
   "source": [
    "fig, ax = plt.subplots()\n",
    "ax.scatter(X[:, 1], y)\n",
    "plt.show()"
   ]
  },
  {
   "cell_type": "code",
   "execution_count": 146,
   "metadata": {},
   "outputs": [],
   "source": [
    "# OLS model 1 using just beta variables\n",
    "parms = [0, 1]\n",
    "expts = [0, 1, 2, 3, 4] \n",
    "m = pyo.ConcreteModel()\n",
    "m.beta = pyo.Var(parms)\n",
    "m.obj = pyo.Objective(expr = sum((y[k] - sum(X[k, j] * m.beta[j] for j in parms))**2 for k in expts))"
   ]
  },
  {
   "cell_type": "code",
   "execution_count": 147,
   "metadata": {},
   "outputs": [
    {
     "name": "stdout",
     "output_type": "stream",
     "text": [
      "Ipopt 3.11.1: \n",
      "\n",
      "******************************************************************************\n",
      "This program contains Ipopt, a library for large-scale nonlinear optimization.\n",
      " Ipopt is released as open source code under the Eclipse Public License (EPL).\n",
      "         For more information visit http://projects.coin-or.org/Ipopt\n",
      "******************************************************************************\n",
      "\n",
      "NOTE: You are using Ipopt by default with the MUMPS linear solver.\n",
      "      Other linear solvers might be more efficient (see Ipopt documentation).\n",
      "\n",
      "\n",
      "This is Ipopt version 3.11.1, running with linear solver mumps.\n",
      "\n",
      "Number of nonzeros in equality constraint Jacobian...:        0\n",
      "Number of nonzeros in inequality constraint Jacobian.:        0\n",
      "Number of nonzeros in Lagrangian Hessian.............:        3\n",
      "\n",
      "Total number of variables............................:        2\n",
      "                     variables with only lower bounds:        0\n",
      "                variables with lower and upper bounds:        0\n",
      "                     variables with only upper bounds:        0\n",
      "Total number of equality constraints.................:        0\n",
      "Total number of inequality constraints...............:        0\n",
      "        inequality constraints with only lower bounds:        0\n",
      "   inequality constraints with lower and upper bounds:        0\n",
      "        inequality constraints with only upper bounds:        0\n",
      "\n",
      "iter    objective    inf_pr   inf_du lg(mu)  ||d||  lg(rg) alpha_du alpha_pr  ls\n",
      "   0  2.6815937e+03 0.00e+00 1.00e+02  -1.0 0.00e+00    -  0.00e+00 0.00e+00   0\n",
      "   1  3.4491537e+01 0.00e+00 3.36e-15  -1.0 1.34e+01    -  1.00e+00 1.00e+00f  1\n",
      "\n",
      "Number of Iterations....: 1\n",
      "\n",
      "                                   (scaled)                 (unscaled)\n",
      "Objective...............:   4.6652753646768126e+00    3.4491536634817038e+01\n",
      "Dual infeasibility......:   3.3637444006218189e-15    2.4868995751603507e-14\n",
      "Constraint violation....:   0.0000000000000000e+00    0.0000000000000000e+00\n",
      "Complementarity.........:   0.0000000000000000e+00    0.0000000000000000e+00\n",
      "Overall NLP error.......:   3.3637444006218189e-15    2.4868995751603507e-14\n",
      "\n",
      "\n",
      "Number of objective function evaluations             = 2\n",
      "Number of objective gradient evaluations             = 2\n",
      "Number of equality constraint evaluations            = 0\n",
      "Number of inequality constraint evaluations          = 0\n",
      "Number of equality constraint Jacobian evaluations   = 0\n",
      "Number of inequality constraint Jacobian evaluations = 0\n",
      "Number of Lagrangian Hessian evaluations             = 1\n",
      "Total CPU secs in IPOPT (w/o function evaluations)   =      0.001\n",
      "Total CPU secs in NLP function evaluations           =      0.000\n",
      "\n",
      "EXIT: Optimal Solution Found.\n"
     ]
    }
   ],
   "source": [
    "opt = pyo.SolverFactory('ipopt')\n",
    "results = opt.solve(m, tee=True)"
   ]
  },
  {
   "cell_type": "code",
   "execution_count": 148,
   "metadata": {},
   "outputs": [
    {
     "name": "stdout",
     "output_type": "stream",
     "text": [
      "beta_est: [13.37186405  3.07426231]\n"
     ]
    },
    {
     "data": {
      "image/png": "[encoded data removed]",
      "text/plain": [
       "<Figure size 432x288 with 1 Axes>"
      ]
     },
     "metadata": {
      "needs_background": "light"
     },
     "output_type": "display_data"
    }
   ],
   "source": [
    "beta_est = np.array([m.beta[0](), m.beta[1]()])\n",
    "print('beta_est:', beta_est)\n",
    "y_pred = X.dot(beta_est)\n",
    "\n",
    "fig, ax = plt.subplots()\n",
    "ax.scatter(X[:, 1], y)\n",
    "ax.plot(X[:, 1], y_pred)\n",
    "plt.show()"
   ]
  },
  {
   "cell_type": "code",
   "execution_count": 154,
   "metadata": {},
   "outputs": [
    {
     "name": "stdout",
     "output_type": "stream",
     "text": [
      "Hessian from pynumero:\n",
      "[[ 10.  30.]\n",
      " [ 30. 110.]]\n",
      "Analytical Hessian 2*X^TX\n",
      "[[ 10.  30.]\n",
      " [ 30. 110.]]\n"
     ]
    }
   ],
   "source": [
    "nlp = PyomoNLP(m)\n",
    "parm_vars = [m.beta[0], m.beta[1]]\n",
    "H = getHred(nlp, parm_vars)\n",
    "print(\"Hessian from pynumero:\")\n",
    "print(H)\n",
    "print(\"Analytical Hessian 2*X^TX\")\n",
    "Ha = 2*X.T.dot(X)\n",
    "print(Ha)"
   ]
  },
  {
   "cell_type": "code",
   "execution_count": 5,
   "metadata": {},
   "outputs": [],
   "source": [
    "# OLS model 2 using beta variables and ypred variables\n",
    "parms = [0, 1]\n",
    "expts = [0, 1, 2, 3, 4] \n",
    "m = pyo.ConcreteModel()\n",
    "m.beta = pyo.Var(parms, bounds = (0, 20))\n",
    "m.ypred = pyo.Var(expts)\n",
    "\n",
    "m.obj = pyo.Objective(expr = sum((m.ypred[k] - y[k])**2 for k in expts))\n",
    "def _cons(m, k):\n",
    "    return m.ypred[k] == sum(X[k, j] * m.beta[j] for j in parms)\n",
    "m.cons = pyo.Constraint(expts, rule = _cons)        "
   ]
  },
  {
   "cell_type": "code",
   "execution_count": 6,
   "metadata": {},
   "outputs": [
    {
     "name": "stdout",
     "output_type": "stream",
     "text": [
      "Ipopt 3.11.1: \n",
      "\n",
      "******************************************************************************\n",
      "This program contains Ipopt, a library for large-scale nonlinear optimization.\n",
      " Ipopt is released as open source code under the Eclipse Public License (EPL).\n",
      "         For more information visit http://projects.coin-or.org/Ipopt\n",
      "******************************************************************************\n",
      "\n",
      "NOTE: You are using Ipopt by default with the MUMPS linear solver.\n",
      "      Other linear solvers might be more efficient (see Ipopt documentation).\n",
      "\n",
      "\n",
      "This is Ipopt version 3.11.1, running with linear solver mumps.\n",
      "\n",
      "Number of nonzeros in equality constraint Jacobian...:       15\n",
      "Number of nonzeros in inequality constraint Jacobian.:        0\n",
      "Number of nonzeros in Lagrangian Hessian.............:        5\n",
      "\n",
      "Total number of variables............................:        7\n",
      "                     variables with only lower bounds:        0\n",
      "                variables with lower and upper bounds:        2\n",
      "                     variables with only upper bounds:        0\n",
      "Total number of equality constraints.................:        5\n",
      "Total number of inequality constraints...............:        0\n",
      "        inequality constraints with only lower bounds:        0\n",
      "   inequality constraints with lower and upper bounds:        0\n",
      "        inequality constraints with only upper bounds:        0\n",
      "\n",
      "iter    objective    inf_pr   inf_du lg(mu)  ||d||  lg(rg) alpha_du alpha_pr  ls\n",
      "   0  3.9714680e+03 6.00e-02 7.31e+01  -1.0 0.00e+00    -  0.00e+00 0.00e+00   0\n",
      "   1  1.0168544e+03 3.55e-15 3.97e+02  -1.0 2.19e+01    -  2.48e-03 1.00e+00f  1\n",
      "   2  3.1604939e+01 0.00e+00 5.65e+00  -1.0 1.38e+01    -  9.86e-02 1.00e+00f  1\n",
      "   3  1.9659065e+01 3.55e-15 5.33e-02  -1.0 3.25e+00    -  9.44e-01 1.00e+00f  1\n",
      "   4  1.9526267e+01 0.00e+00 5.77e-15  -1.7 3.01e-01    -  1.00e+00 1.00e+00f  1\n",
      "   5  1.9518612e+01 3.55e-15 2.22e-15  -2.5 8.38e-02    -  1.00e+00 1.00e+00f  1\n",
      "   6  1.9518548e+01 3.55e-15 3.55e-15  -3.8 8.23e-03    -  1.00e+00 1.00e+00f  1\n",
      "   7  1.9518548e+01 3.55e-15 4.66e-15  -5.7 1.49e-04    -  1.00e+00 1.00e+00h  1\n",
      "   8  1.9518548e+01 3.55e-15 6.88e-15  -8.6 1.04e-06    -  1.00e+00 1.00e+00h  1\n",
      "\n",
      "Number of Iterations....: 8\n",
      "\n",
      "                                   (scaled)                 (unscaled)\n",
      "Objective...............:   1.9518547859089239e+01    1.9518547859089239e+01\n",
      "Dual infeasibility......:   6.8833827526759706e-15    6.8833827526759706e-15\n",
      "Constraint violation....:   3.5527136788005009e-15    3.5527136788005009e-15\n",
      "Complementarity.........:   2.5078301126882972e-09    2.5078301126882972e-09\n",
      "Overall NLP error.......:   2.5078301126882972e-09    2.5078301126882972e-09\n",
      "\n",
      "\n",
      "Number of objective function evaluations             = 9\n",
      "Number of objective gradient evaluations             = 9\n",
      "Number of equality constraint evaluations            = 9\n",
      "Number of inequality constraint evaluations          = 0\n",
      "Number of equality constraint Jacobian evaluations   = 9\n",
      "Number of inequality constraint Jacobian evaluations = 0\n",
      "Number of Lagrangian Hessian evaluations             = 8\n",
      "Total CPU secs in IPOPT (w/o function evaluations)   =      0.004\n",
      "Total CPU secs in NLP function evaluations           =      0.000\n",
      "\n",
      "EXIT: Optimal Solution Found.\n"
     ]
    }
   ],
   "source": [
    "opt = pyo.SolverFactory('ipopt')\n",
    "results = opt.solve(m, tee=True)"
   ]
  },
  {
   "cell_type": "code",
   "execution_count": 7,
   "metadata": {},
   "outputs": [
    {
     "name": "stdout",
     "output_type": "stream",
     "text": [
      "beta_est: [18.98241033  2.94072056]\n"
     ]
    },
    {
     "data": {
      "image/png": "[encoded data removed]",
      "text/plain": [
       "<Figure size 432x288 with 1 Axes>"
      ]
     },
     "metadata": {
      "needs_background": "light"
     },
     "output_type": "display_data"
    }
   ],
   "source": [
    "beta_est = np.array([m.beta[0](), m.beta[1]()])\n",
    "print('beta_est:', beta_est)\n",
    "y_pred = X.dot(beta_est)\n",
    "\n",
    "fig, ax = plt.subplots()\n",
    "ax.scatter(X[:, 1], y)\n",
    "ax.plot(X[:, 1], y_pred)\n",
    "plt.show()"
   ]
  },
  {
   "cell_type": "code",
   "execution_count": 10,
   "metadata": {},
   "outputs": [
    {
     "name": "stdout",
     "output_type": "stream",
     "text": [
      "Ji\n",
      "[[-1. -1.]\n",
      " [-1. -2.]\n",
      " [-1. -3.]\n",
      " [-1. -4.]\n",
      " [-1. -5.]]\n",
      "Jd\n",
      "[[1. 0. 0. 0. 0.]\n",
      " [0. 1. 0. 0. 0.]\n",
      " [0. 0. 1. 0. 0.]\n",
      " [0. 0. 0. 1. 0.]\n",
      " [0. 0. 0. 0. 1.]]\n",
      "Z\n",
      "[[-1. -1.]\n",
      " [-1. -2.]\n",
      " [-1. -3.]\n",
      " [-1. -4.]\n",
      " [-1. -5.]\n",
      " [ 1.  0.]\n",
      " [ 0.  1.]]\n",
      "['ypred[0]', 'ypred[1]', 'ypred[2]', 'ypred[3]', 'ypred[4]', 'beta[0]', 'beta[1]']\n",
      "{'ypred[0]': 0, 'ypred[1]': 1, 'ypred[2]': 2, 'ypred[3]': 3, 'ypred[4]': 4, 'beta[0]': 5, 'beta[1]': 6}\n",
      "zorder: [0, 1, 2, 3, 4, 5, 6]\n",
      "Zorder\n",
      "[[-1. -1.]\n",
      " [-1. -2.]\n",
      " [-1. -3.]\n",
      " [-1. -4.]\n",
      " [-1. -5.]\n",
      " [ 1.  0.]\n",
      " [ 0.  1.]]\n",
      "Hessian from pynumero:\n",
      "[[ 10.  30.]\n",
      " [ 30. 110.]]\n",
      "Analytical Hessian 2*X^TX\n",
      "[[ 10.  30.]\n",
      " [ 30. 110.]]\n"
     ]
    }
   ],
   "source": [
    "nlp = PyomoNLP(m)\n",
    "parm_vars = [m.beta[0], m.beta[1]]\n",
    "Hred = getHred(nlp, parm_vars)\n",
    "print(\"Hessian from pynumero:\")\n",
    "print(Hred)\n",
    "print(\"Analytical Hessian 2*X^TX\")\n",
    "Ha = 2*X.T.dot(X)\n",
    "print(Ha)"
   ]
  },
  {
   "cell_type": "code",
   "execution_count": null,
   "metadata": {},
   "outputs": [],
   "source": []
  }
 ],
 "metadata": {
  "kernelspec": {
   "display_name": "Python 3",
   "language": "python",
   "name": "python3"
  },
  "language_info": {
   "codemirror_mode": {
    "name": "ipython",
    "version": 3
   },
   "file_extension": ".py",
   "mimetype": "text/x-python",
   "name": "python",
   "nbconvert_exporter": "python",
   "pygments_lexer": "ipython3",
   "version": "3.6.9"
  }
 },
 "nbformat": 4,
 "nbformat_minor": 2
}
